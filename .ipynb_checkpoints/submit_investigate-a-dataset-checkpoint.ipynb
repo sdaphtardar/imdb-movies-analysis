{
 "cells": [
  {
   "cell_type": "markdown",
   "metadata": {},
   "source": [
    "\n",
    "# Project: Investigate an IMDB Dataset of movies\n",
    "\n",
    "## Table of Contents\n",
    "<ul>\n",
    "<li><a href=\"#intro\">Introduction</a></li>\n",
    "<li><a href=\"#wrangling\">Data Wrangling</a></li>\n",
    "<li><a href=\"#eda\">Exploratory Data Analysis</a></li>\n",
    "<li><a href=\"#conclusions\">Conclusions</a></li>\n",
    "</ul>"
   ]
  },
  {
   "cell_type": "markdown",
   "metadata": {},
   "source": [
    "## Introduction\n",
    "This report analyzes imdb dataset of movies. There are several columns that will be analyzed in this report. Starting with most and least financially successful director followed with most prolific director. Later, report moves on to uncover possible trend in revenue generation over the years. Audiences have varied taste and also it is not uncommon to find people who are committed to same types of movies. Therefore report tries to find most successful genre in each year from the point of view of user ratings. It is a common sight to find movies whose names start with word \"The\". Has it always been like this? or is this a recent trend? In order to see this report gives yearly proportion of movies having \"The\" in the beginning of the name and plots a graph of the same to get a bird's eye view. Finally correlation between length of tagline and movie name is checked.\n"
   ]
  },
  {
   "cell_type": "markdown",
   "metadata": {},
   "source": [
    "<a id='wrangling'></a>\n",
    "## Data Wrangling\n"
   ]
  },
  {
   "cell_type": "code",
   "execution_count": 48,
   "metadata": {},
   "outputs": [
    {
     "name": "stdout",
     "output_type": "stream",
     "text": [
      "Successfully imported needed packages\n"
     ]
    }
   ],
   "source": [
    "import pandas as pd\n",
    "import numpy as np\n",
    "import matplotlib.pyplot as plt\n",
    "import seaborn as sns\n",
    "%matplotlib inline\n",
    "print('Successfully imported needed packages')"
   ]
  },
  {
   "cell_type": "code",
   "execution_count": 49,
   "metadata": {},
   "outputs": [
    {
     "data": {
      "text/html": [
       "<div>\n",
       "<style scoped>\n",
       "    .dataframe tbody tr th:only-of-type {\n",
       "        vertical-align: middle;\n",
       "    }\n",
       "\n",
       "    .dataframe tbody tr th {\n",
       "        vertical-align: top;\n",
       "    }\n",
       "\n",
       "    .dataframe thead th {\n",
       "        text-align: right;\n",
       "    }\n",
       "</style>\n",
       "<table border=\"1\" class=\"dataframe\">\n",
       "  <thead>\n",
       "    <tr style=\"text-align: right;\">\n",
       "      <th></th>\n",
       "      <th>id</th>\n",
       "      <th>imdb_id</th>\n",
       "      <th>popularity</th>\n",
       "      <th>budget</th>\n",
       "      <th>revenue</th>\n",
       "      <th>original_title</th>\n",
       "      <th>cast</th>\n",
       "      <th>homepage</th>\n",
       "      <th>director</th>\n",
       "      <th>tagline</th>\n",
       "      <th>...</th>\n",
       "      <th>overview</th>\n",
       "      <th>runtime</th>\n",
       "      <th>genres</th>\n",
       "      <th>production_companies</th>\n",
       "      <th>release_date</th>\n",
       "      <th>vote_count</th>\n",
       "      <th>vote_average</th>\n",
       "      <th>release_year</th>\n",
       "      <th>budget_adj</th>\n",
       "      <th>revenue_adj</th>\n",
       "    </tr>\n",
       "  </thead>\n",
       "  <tbody>\n",
       "    <tr>\n",
       "      <th>0</th>\n",
       "      <td>135397</td>\n",
       "      <td>tt0369610</td>\n",
       "      <td>32.985763</td>\n",
       "      <td>150000000</td>\n",
       "      <td>1513528810</td>\n",
       "      <td>Jurassic World</td>\n",
       "      <td>Chris Pratt|Bryce Dallas Howard|Irrfan Khan|Vi...</td>\n",
       "      <td>http://www.jurassicworld.com/</td>\n",
       "      <td>Colin Trevorrow</td>\n",
       "      <td>The park is open.</td>\n",
       "      <td>...</td>\n",
       "      <td>Twenty-two years after the events of Jurassic ...</td>\n",
       "      <td>124</td>\n",
       "      <td>Action|Adventure|Science Fiction|Thriller</td>\n",
       "      <td>Universal Studios|Amblin Entertainment|Legenda...</td>\n",
       "      <td>6/9/15</td>\n",
       "      <td>5562</td>\n",
       "      <td>6.5</td>\n",
       "      <td>2015</td>\n",
       "      <td>1.379999e+08</td>\n",
       "      <td>1.392446e+09</td>\n",
       "    </tr>\n",
       "    <tr>\n",
       "      <th>1</th>\n",
       "      <td>76341</td>\n",
       "      <td>tt1392190</td>\n",
       "      <td>28.419936</td>\n",
       "      <td>150000000</td>\n",
       "      <td>378436354</td>\n",
       "      <td>Mad Max: Fury Road</td>\n",
       "      <td>Tom Hardy|Charlize Theron|Hugh Keays-Byrne|Nic...</td>\n",
       "      <td>http://www.madmaxmovie.com/</td>\n",
       "      <td>George Miller</td>\n",
       "      <td>What a Lovely Day.</td>\n",
       "      <td>...</td>\n",
       "      <td>An apocalyptic story set in the furthest reach...</td>\n",
       "      <td>120</td>\n",
       "      <td>Action|Adventure|Science Fiction|Thriller</td>\n",
       "      <td>Village Roadshow Pictures|Kennedy Miller Produ...</td>\n",
       "      <td>5/13/15</td>\n",
       "      <td>6185</td>\n",
       "      <td>7.1</td>\n",
       "      <td>2015</td>\n",
       "      <td>1.379999e+08</td>\n",
       "      <td>3.481613e+08</td>\n",
       "    </tr>\n",
       "    <tr>\n",
       "      <th>2</th>\n",
       "      <td>262500</td>\n",
       "      <td>tt2908446</td>\n",
       "      <td>13.112507</td>\n",
       "      <td>110000000</td>\n",
       "      <td>295238201</td>\n",
       "      <td>Insurgent</td>\n",
       "      <td>Shailene Woodley|Theo James|Kate Winslet|Ansel...</td>\n",
       "      <td>http://www.thedivergentseries.movie/#insurgent</td>\n",
       "      <td>Robert Schwentke</td>\n",
       "      <td>One Choice Can Destroy You</td>\n",
       "      <td>...</td>\n",
       "      <td>Beatrice Prior must confront her inner demons ...</td>\n",
       "      <td>119</td>\n",
       "      <td>Adventure|Science Fiction|Thriller</td>\n",
       "      <td>Summit Entertainment|Mandeville Films|Red Wago...</td>\n",
       "      <td>3/18/15</td>\n",
       "      <td>2480</td>\n",
       "      <td>6.3</td>\n",
       "      <td>2015</td>\n",
       "      <td>1.012000e+08</td>\n",
       "      <td>2.716190e+08</td>\n",
       "    </tr>\n",
       "    <tr>\n",
       "      <th>3</th>\n",
       "      <td>140607</td>\n",
       "      <td>tt2488496</td>\n",
       "      <td>11.173104</td>\n",
       "      <td>200000000</td>\n",
       "      <td>2068178225</td>\n",
       "      <td>Star Wars: The Force Awakens</td>\n",
       "      <td>Harrison Ford|Mark Hamill|Carrie Fisher|Adam D...</td>\n",
       "      <td>http://www.starwars.com/films/star-wars-episod...</td>\n",
       "      <td>J.J. Abrams</td>\n",
       "      <td>Every generation has a story.</td>\n",
       "      <td>...</td>\n",
       "      <td>Thirty years after defeating the Galactic Empi...</td>\n",
       "      <td>136</td>\n",
       "      <td>Action|Adventure|Science Fiction|Fantasy</td>\n",
       "      <td>Lucasfilm|Truenorth Productions|Bad Robot</td>\n",
       "      <td>12/15/15</td>\n",
       "      <td>5292</td>\n",
       "      <td>7.5</td>\n",
       "      <td>2015</td>\n",
       "      <td>1.839999e+08</td>\n",
       "      <td>1.902723e+09</td>\n",
       "    </tr>\n",
       "    <tr>\n",
       "      <th>4</th>\n",
       "      <td>168259</td>\n",
       "      <td>tt2820852</td>\n",
       "      <td>9.335014</td>\n",
       "      <td>190000000</td>\n",
       "      <td>1506249360</td>\n",
       "      <td>Furious 7</td>\n",
       "      <td>Vin Diesel|Paul Walker|Jason Statham|Michelle ...</td>\n",
       "      <td>http://www.furious7.com/</td>\n",
       "      <td>James Wan</td>\n",
       "      <td>Vengeance Hits Home</td>\n",
       "      <td>...</td>\n",
       "      <td>Deckard Shaw seeks revenge against Dominic Tor...</td>\n",
       "      <td>137</td>\n",
       "      <td>Action|Crime|Thriller</td>\n",
       "      <td>Universal Pictures|Original Film|Media Rights ...</td>\n",
       "      <td>4/1/15</td>\n",
       "      <td>2947</td>\n",
       "      <td>7.3</td>\n",
       "      <td>2015</td>\n",
       "      <td>1.747999e+08</td>\n",
       "      <td>1.385749e+09</td>\n",
       "    </tr>\n",
       "    <tr>\n",
       "      <th>5</th>\n",
       "      <td>281957</td>\n",
       "      <td>tt1663202</td>\n",
       "      <td>9.110700</td>\n",
       "      <td>135000000</td>\n",
       "      <td>532950503</td>\n",
       "      <td>The Revenant</td>\n",
       "      <td>Leonardo DiCaprio|Tom Hardy|Will Poulter|Domhn...</td>\n",
       "      <td>http://www.foxmovies.com/movies/the-revenant</td>\n",
       "      <td>Alejandro GonzÃ¡lez IÃ±Ã¡rritu</td>\n",
       "      <td>(n. One who has returned, as if from the dead.)</td>\n",
       "      <td>...</td>\n",
       "      <td>In the 1820s, a frontiersman, Hugh Glass, sets...</td>\n",
       "      <td>156</td>\n",
       "      <td>Western|Drama|Adventure|Thriller</td>\n",
       "      <td>Regency Enterprises|Appian Way|CatchPlay|Anony...</td>\n",
       "      <td>12/25/15</td>\n",
       "      <td>3929</td>\n",
       "      <td>7.2</td>\n",
       "      <td>2015</td>\n",
       "      <td>1.241999e+08</td>\n",
       "      <td>4.903142e+08</td>\n",
       "    </tr>\n",
       "    <tr>\n",
       "      <th>6</th>\n",
       "      <td>87101</td>\n",
       "      <td>tt1340138</td>\n",
       "      <td>8.654359</td>\n",
       "      <td>155000000</td>\n",
       "      <td>440603537</td>\n",
       "      <td>Terminator Genisys</td>\n",
       "      <td>Arnold Schwarzenegger|Jason Clarke|Emilia Clar...</td>\n",
       "      <td>http://www.terminatormovie.com/</td>\n",
       "      <td>Alan Taylor</td>\n",
       "      <td>Reset the future</td>\n",
       "      <td>...</td>\n",
       "      <td>The year is 2029. John Connor, leader of the r...</td>\n",
       "      <td>125</td>\n",
       "      <td>Science Fiction|Action|Thriller|Adventure</td>\n",
       "      <td>Paramount Pictures|Skydance Productions</td>\n",
       "      <td>6/23/15</td>\n",
       "      <td>2598</td>\n",
       "      <td>5.8</td>\n",
       "      <td>2015</td>\n",
       "      <td>1.425999e+08</td>\n",
       "      <td>4.053551e+08</td>\n",
       "    </tr>\n",
       "  </tbody>\n",
       "</table>\n",
       "<p>7 rows × 21 columns</p>\n",
       "</div>"
      ],
      "text/plain": [
       "       id    imdb_id  popularity     budget     revenue  \\\n",
       "0  135397  tt0369610   32.985763  150000000  1513528810   \n",
       "1   76341  tt1392190   28.419936  150000000   378436354   \n",
       "2  262500  tt2908446   13.112507  110000000   295238201   \n",
       "3  140607  tt2488496   11.173104  200000000  2068178225   \n",
       "4  168259  tt2820852    9.335014  190000000  1506249360   \n",
       "5  281957  tt1663202    9.110700  135000000   532950503   \n",
       "6   87101  tt1340138    8.654359  155000000   440603537   \n",
       "\n",
       "                 original_title  \\\n",
       "0                Jurassic World   \n",
       "1            Mad Max: Fury Road   \n",
       "2                     Insurgent   \n",
       "3  Star Wars: The Force Awakens   \n",
       "4                     Furious 7   \n",
       "5                  The Revenant   \n",
       "6            Terminator Genisys   \n",
       "\n",
       "                                                cast  \\\n",
       "0  Chris Pratt|Bryce Dallas Howard|Irrfan Khan|Vi...   \n",
       "1  Tom Hardy|Charlize Theron|Hugh Keays-Byrne|Nic...   \n",
       "2  Shailene Woodley|Theo James|Kate Winslet|Ansel...   \n",
       "3  Harrison Ford|Mark Hamill|Carrie Fisher|Adam D...   \n",
       "4  Vin Diesel|Paul Walker|Jason Statham|Michelle ...   \n",
       "5  Leonardo DiCaprio|Tom Hardy|Will Poulter|Domhn...   \n",
       "6  Arnold Schwarzenegger|Jason Clarke|Emilia Clar...   \n",
       "\n",
       "                                            homepage  \\\n",
       "0                      http://www.jurassicworld.com/   \n",
       "1                        http://www.madmaxmovie.com/   \n",
       "2     http://www.thedivergentseries.movie/#insurgent   \n",
       "3  http://www.starwars.com/films/star-wars-episod...   \n",
       "4                           http://www.furious7.com/   \n",
       "5       http://www.foxmovies.com/movies/the-revenant   \n",
       "6                    http://www.terminatormovie.com/   \n",
       "\n",
       "                         director  \\\n",
       "0                 Colin Trevorrow   \n",
       "1                   George Miller   \n",
       "2                Robert Schwentke   \n",
       "3                     J.J. Abrams   \n",
       "4                       James Wan   \n",
       "5  Alejandro GonzÃ¡lez IÃ±Ã¡rritu   \n",
       "6                     Alan Taylor   \n",
       "\n",
       "                                           tagline  ...  \\\n",
       "0                                The park is open.  ...   \n",
       "1                               What a Lovely Day.  ...   \n",
       "2                       One Choice Can Destroy You  ...   \n",
       "3                    Every generation has a story.  ...   \n",
       "4                              Vengeance Hits Home  ...   \n",
       "5  (n. One who has returned, as if from the dead.)  ...   \n",
       "6                                 Reset the future  ...   \n",
       "\n",
       "                                            overview runtime  \\\n",
       "0  Twenty-two years after the events of Jurassic ...     124   \n",
       "1  An apocalyptic story set in the furthest reach...     120   \n",
       "2  Beatrice Prior must confront her inner demons ...     119   \n",
       "3  Thirty years after defeating the Galactic Empi...     136   \n",
       "4  Deckard Shaw seeks revenge against Dominic Tor...     137   \n",
       "5  In the 1820s, a frontiersman, Hugh Glass, sets...     156   \n",
       "6  The year is 2029. John Connor, leader of the r...     125   \n",
       "\n",
       "                                      genres  \\\n",
       "0  Action|Adventure|Science Fiction|Thriller   \n",
       "1  Action|Adventure|Science Fiction|Thriller   \n",
       "2         Adventure|Science Fiction|Thriller   \n",
       "3   Action|Adventure|Science Fiction|Fantasy   \n",
       "4                      Action|Crime|Thriller   \n",
       "5           Western|Drama|Adventure|Thriller   \n",
       "6  Science Fiction|Action|Thriller|Adventure   \n",
       "\n",
       "                                production_companies release_date vote_count  \\\n",
       "0  Universal Studios|Amblin Entertainment|Legenda...       6/9/15       5562   \n",
       "1  Village Roadshow Pictures|Kennedy Miller Produ...      5/13/15       6185   \n",
       "2  Summit Entertainment|Mandeville Films|Red Wago...      3/18/15       2480   \n",
       "3          Lucasfilm|Truenorth Productions|Bad Robot     12/15/15       5292   \n",
       "4  Universal Pictures|Original Film|Media Rights ...       4/1/15       2947   \n",
       "5  Regency Enterprises|Appian Way|CatchPlay|Anony...     12/25/15       3929   \n",
       "6            Paramount Pictures|Skydance Productions      6/23/15       2598   \n",
       "\n",
       "   vote_average  release_year    budget_adj   revenue_adj  \n",
       "0           6.5          2015  1.379999e+08  1.392446e+09  \n",
       "1           7.1          2015  1.379999e+08  3.481613e+08  \n",
       "2           6.3          2015  1.012000e+08  2.716190e+08  \n",
       "3           7.5          2015  1.839999e+08  1.902723e+09  \n",
       "4           7.3          2015  1.747999e+08  1.385749e+09  \n",
       "5           7.2          2015  1.241999e+08  4.903142e+08  \n",
       "6           5.8          2015  1.425999e+08  4.053551e+08  \n",
       "\n",
       "[7 rows x 21 columns]"
      ]
     },
     "execution_count": 49,
     "metadata": {},
     "output_type": "execute_result"
    }
   ],
   "source": [
    "df_mov_all_columns = pd.read_csv('tmdb-movies.csv')\n",
    "df_mov_all_columns.head(7)"
   ]
  },
  {
   "cell_type": "markdown",
   "metadata": {},
   "source": [
    "### General Properties"
   ]
  },
  {
   "cell_type": "code",
   "execution_count": 50,
   "metadata": {},
   "outputs": [
    {
     "data": {
      "text/plain": [
       "(10866, 21)"
      ]
     },
     "execution_count": 50,
     "metadata": {},
     "output_type": "execute_result"
    }
   ],
   "source": [
    "df_mov_all_columns.shape\n"
   ]
  },
  {
   "cell_type": "code",
   "execution_count": 51,
   "metadata": {},
   "outputs": [
    {
     "data": {
      "text/plain": [
       "1"
      ]
     },
     "execution_count": 51,
     "metadata": {},
     "output_type": "execute_result"
    }
   ],
   "source": [
    "sum(df_mov_all_columns.duplicated())"
   ]
  },
  {
   "cell_type": "code",
   "execution_count": 52,
   "metadata": {},
   "outputs": [
    {
     "data": {
      "text/plain": [
       "Index(['id', 'imdb_id', 'popularity', 'budget', 'revenue', 'original_title',\n",
       "       'cast', 'homepage', 'director', 'tagline', 'keywords', 'overview',\n",
       "       'runtime', 'genres', 'production_companies', 'release_date',\n",
       "       'vote_count', 'vote_average', 'release_year', 'budget_adj',\n",
       "       'revenue_adj'],\n",
       "      dtype='object')"
      ]
     },
     "execution_count": 52,
     "metadata": {},
     "output_type": "execute_result"
    }
   ],
   "source": [
    "df_mov_all_columns.columns"
   ]
  },
  {
   "cell_type": "code",
   "execution_count": 53,
   "metadata": {},
   "outputs": [
    {
     "data": {
      "text/plain": [
       "(       id    imdb_id  popularity  vote_count  vote_average  \\\n",
       " 0  135397  tt0369610   32.985763        5562           6.5   \n",
       " 1   76341  tt1392190   28.419936        6185           7.1   \n",
       " 2  262500  tt2908446   13.112507        2480           6.3   \n",
       " 3  140607  tt2488496   11.173104        5292           7.5   \n",
       " 4  168259  tt2820852    9.335014        2947           7.3   \n",
       " 5  281957  tt1663202    9.110700        3929           7.2   \n",
       " 6   87101  tt1340138    8.654359        2598           5.8   \n",
       " \n",
       "                  original_title  \\\n",
       " 0                Jurassic World   \n",
       " 1            Mad Max: Fury Road   \n",
       " 2                     Insurgent   \n",
       " 3  Star Wars: The Force Awakens   \n",
       " 4                     Furious 7   \n",
       " 5                  The Revenant   \n",
       " 6            Terminator Genisys   \n",
       " \n",
       "                                            tagline  \\\n",
       " 0                                The park is open.   \n",
       " 1                               What a Lovely Day.   \n",
       " 2                       One Choice Can Destroy You   \n",
       " 3                    Every generation has a story.   \n",
       " 4                              Vengeance Hits Home   \n",
       " 5  (n. One who has returned, as if from the dead.)   \n",
       " 6                                 Reset the future   \n",
       " \n",
       "                                                 cast  \\\n",
       " 0  Chris Pratt|Bryce Dallas Howard|Irrfan Khan|Vi...   \n",
       " 1  Tom Hardy|Charlize Theron|Hugh Keays-Byrne|Nic...   \n",
       " 2  Shailene Woodley|Theo James|Kate Winslet|Ansel...   \n",
       " 3  Harrison Ford|Mark Hamill|Carrie Fisher|Adam D...   \n",
       " 4  Vin Diesel|Paul Walker|Jason Statham|Michelle ...   \n",
       " 5  Leonardo DiCaprio|Tom Hardy|Will Poulter|Domhn...   \n",
       " 6  Arnold Schwarzenegger|Jason Clarke|Emilia Clar...   \n",
       " \n",
       "                          director  \\\n",
       " 0                 Colin Trevorrow   \n",
       " 1                   George Miller   \n",
       " 2                Robert Schwentke   \n",
       " 3                     J.J. Abrams   \n",
       " 4                       James Wan   \n",
       " 5  Alejandro GonzÃ¡lez IÃ±Ã¡rritu   \n",
       " 6                     Alan Taylor   \n",
       " \n",
       "                                             keywords  \\\n",
       " 0  monster|dna|tyrannosaurus rex|velociraptor|island   \n",
       " 1   future|chase|post-apocalyptic|dystopia|australia   \n",
       " 2  based on novel|revolution|dystopia|sequel|dyst...   \n",
       " 3              android|spaceship|jedi|space opera|3d   \n",
       " 4                car race|speed|revenge|suspense|car   \n",
       " 5  father-son relationship|rape|based on novel|mo...   \n",
       " 6  saving the world|artificial intelligence|cybor...   \n",
       " \n",
       "                                       genres  runtime  \\\n",
       " 0  Action|Adventure|Science Fiction|Thriller      124   \n",
       " 1  Action|Adventure|Science Fiction|Thriller      120   \n",
       " 2         Adventure|Science Fiction|Thriller      119   \n",
       " 3   Action|Adventure|Science Fiction|Fantasy      136   \n",
       " 4                      Action|Crime|Thriller      137   \n",
       " 5           Western|Drama|Adventure|Thriller      156   \n",
       " 6  Science Fiction|Action|Thriller|Adventure      125   \n",
       " \n",
       "                                 production_companies release_date  \\\n",
       " 0  Universal Studios|Amblin Entertainment|Legenda...       6/9/15   \n",
       " 1  Village Roadshow Pictures|Kennedy Miller Produ...      5/13/15   \n",
       " 2  Summit Entertainment|Mandeville Films|Red Wago...      3/18/15   \n",
       " 3          Lucasfilm|Truenorth Productions|Bad Robot     12/15/15   \n",
       " 4  Universal Pictures|Original Film|Media Rights ...       4/1/15   \n",
       " 5  Regency Enterprises|Appian Way|CatchPlay|Anony...     12/25/15   \n",
       " 6            Paramount Pictures|Skydance Productions      6/23/15   \n",
       " \n",
       "    release_year     budget     revenue    budget_adj   revenue_adj  \n",
       " 0          2015  150000000  1513528810  1.379999e+08  1.392446e+09  \n",
       " 1          2015  150000000   378436354  1.379999e+08  3.481613e+08  \n",
       " 2          2015  110000000   295238201  1.012000e+08  2.716190e+08  \n",
       " 3          2015  200000000  2068178225  1.839999e+08  1.902723e+09  \n",
       " 4          2015  190000000  1506249360  1.747999e+08  1.385749e+09  \n",
       " 5          2015  135000000   532950503  1.241999e+08  4.903142e+08  \n",
       " 6          2015  155000000   440603537  1.425999e+08  4.053551e+08  ,\n",
       " (10866, 19))"
      ]
     },
     "execution_count": 53,
     "metadata": {},
     "output_type": "execute_result"
    }
   ],
   "source": [
    "#Change order of columns and leave out less useful columns\n",
    "df_mov = df_mov_all_columns[['id', 'imdb_id','popularity','vote_count', 'vote_average','original_title','tagline','cast','director','keywords','genres', 'runtime','production_companies','release_date','release_year','budget', 'revenue','budget_adj',\n",
    "       'revenue_adj']]\n",
    "df_mov.head(7), df_mov.shape"
   ]
  },
  {
   "cell_type": "code",
   "execution_count": 54,
   "metadata": {},
   "outputs": [
    {
     "data": {
      "text/plain": [
       "id                        int64\n",
       "imdb_id                  object\n",
       "popularity              float64\n",
       "vote_count                int64\n",
       "vote_average            float64\n",
       "original_title           object\n",
       "tagline                  object\n",
       "cast                     object\n",
       "director                 object\n",
       "keywords                 object\n",
       "genres                   object\n",
       "runtime                   int64\n",
       "production_companies     object\n",
       "release_date             object\n",
       "release_year              int64\n",
       "budget                    int64\n",
       "revenue                   int64\n",
       "budget_adj              float64\n",
       "revenue_adj             float64\n",
       "dtype: object"
      ]
     },
     "execution_count": 54,
     "metadata": {},
     "output_type": "execute_result"
    }
   ],
   "source": [
    "# Load your data and print out a few lines. Perform operations to inspect data\n",
    "#   types and look for instances of missing or possibly errant data.\n",
    "df_mov.dtypes"
   ]
  },
  {
   "cell_type": "code",
   "execution_count": 55,
   "metadata": {},
   "outputs": [
    {
     "name": "stdout",
     "output_type": "stream",
     "text": [
      "1\n"
     ]
    }
   ],
   "source": [
    "print(len(df_mov)-len(df_mov.drop_duplicates()))"
   ]
  },
  {
   "cell_type": "code",
   "execution_count": 56,
   "metadata": {},
   "outputs": [
    {
     "data": {
      "text/plain": [
       "10866"
      ]
     },
     "execution_count": 56,
     "metadata": {},
     "output_type": "execute_result"
    }
   ],
   "source": [
    "len(df_mov)"
   ]
  },
  {
   "cell_type": "code",
   "execution_count": 57,
   "metadata": {},
   "outputs": [
    {
     "data": {
      "text/plain": [
       "10865"
      ]
     },
     "execution_count": 57,
     "metadata": {},
     "output_type": "execute_result"
    }
   ],
   "source": [
    "df_mov=df_mov.drop_duplicates()\n",
    "len(df_mov)"
   ]
  },
  {
   "cell_type": "code",
   "execution_count": 58,
   "metadata": {},
   "outputs": [
    {
     "data": {
      "text/plain": [
       "19"
      ]
     },
     "execution_count": 58,
     "metadata": {},
     "output_type": "execute_result"
    }
   ],
   "source": [
    "len(df_mov.columns)\n",
    "# len(df_mov_all_columns.columns)"
   ]
  },
  {
   "cell_type": "code",
   "execution_count": 59,
   "metadata": {},
   "outputs": [
    {
     "data": {
      "text/plain": [
       "56"
      ]
     },
     "execution_count": 59,
     "metadata": {},
     "output_type": "execute_result"
    }
   ],
   "source": [
    "df_mov['release_year'].nunique()"
   ]
  },
  {
   "cell_type": "markdown",
   "metadata": {},
   "source": [
    "\n",
    "### Data Cleaning."
   ]
  },
  {
   "cell_type": "markdown",
   "metadata": {},
   "source": [
    "#### Checking for nan values and respective count"
   ]
  },
  {
   "cell_type": "code",
   "execution_count": 60,
   "metadata": {},
   "outputs": [
    {
     "data": {
      "text/plain": [
       "id                         0\n",
       "imdb_id                   10\n",
       "popularity                 0\n",
       "vote_count                 0\n",
       "vote_average               0\n",
       "original_title             0\n",
       "tagline                 2824\n",
       "cast                      76\n",
       "director                  44\n",
       "keywords                1493\n",
       "genres                    23\n",
       "runtime                    0\n",
       "production_companies    1030\n",
       "release_date               0\n",
       "release_year               0\n",
       "budget                     0\n",
       "revenue                    0\n",
       "budget_adj                 0\n",
       "revenue_adj                0\n",
       "dtype: int64"
      ]
     },
     "execution_count": 60,
     "metadata": {},
     "output_type": "execute_result"
    }
   ],
   "source": [
    "#Checking for nan values and respective count\n",
    "(df_mov.isnull().sum())\n",
    "#As all columns which have nan values represent non-numeric data I cannot use mean or anyother sort of interpolation on them"
   ]
  },
  {
   "cell_type": "code",
   "execution_count": 61,
   "metadata": {},
   "outputs": [
    {
     "name": "stdout",
     "output_type": "stream",
     "text": [
      "<class 'pandas.core.frame.DataFrame'>\n",
      "Int64Index: 10865 entries, 0 to 10865\n",
      "Data columns (total 19 columns):\n",
      " #   Column                Non-Null Count  Dtype  \n",
      "---  ------                --------------  -----  \n",
      " 0   id                    10865 non-null  int64  \n",
      " 1   imdb_id               10855 non-null  object \n",
      " 2   popularity            10865 non-null  float64\n",
      " 3   vote_count            10865 non-null  int64  \n",
      " 4   vote_average          10865 non-null  float64\n",
      " 5   original_title        10865 non-null  object \n",
      " 6   tagline               8041 non-null   object \n",
      " 7   cast                  10789 non-null  object \n",
      " 8   director              10821 non-null  object \n",
      " 9   keywords              9372 non-null   object \n",
      " 10  genres                10842 non-null  object \n",
      " 11  runtime               10865 non-null  int64  \n",
      " 12  production_companies  9835 non-null   object \n",
      " 13  release_date          10865 non-null  object \n",
      " 14  release_year          10865 non-null  int64  \n",
      " 15  budget                10865 non-null  int64  \n",
      " 16  revenue               10865 non-null  int64  \n",
      " 17  budget_adj            10865 non-null  float64\n",
      " 18  revenue_adj           10865 non-null  float64\n",
      "dtypes: float64(4), int64(6), object(9)\n",
      "memory usage: 1.7+ MB\n"
     ]
    }
   ],
   "source": [
    "df_mov.info()"
   ]
  },
  {
   "cell_type": "markdown",
   "metadata": {},
   "source": [
    "##### Drop all rows with nan values"
   ]
  },
  {
   "cell_type": "code",
   "execution_count": 62,
   "metadata": {},
   "outputs": [
    {
     "data": {
      "text/plain": [
       "(10865, 19)"
      ]
     },
     "execution_count": 62,
     "metadata": {},
     "output_type": "execute_result"
    }
   ],
   "source": [
    "\n",
    "df_mov.shape"
   ]
  },
  {
   "cell_type": "code",
   "execution_count": 63,
   "metadata": {},
   "outputs": [],
   "source": [
    "df_mov.dropna(inplace=True)"
   ]
  },
  {
   "cell_type": "code",
   "execution_count": 64,
   "metadata": {},
   "outputs": [
    {
     "data": {
      "text/plain": [
       "(10866, 21)"
      ]
     },
     "execution_count": 64,
     "metadata": {},
     "output_type": "execute_result"
    }
   ],
   "source": [
    "df_mov_all_columns.shape"
   ]
  },
  {
   "cell_type": "code",
   "execution_count": 65,
   "metadata": {},
   "outputs": [
    {
     "data": {
      "text/plain": [
       "(7030, 19)"
      ]
     },
     "execution_count": 65,
     "metadata": {},
     "output_type": "execute_result"
    }
   ],
   "source": [
    "df_mov.shape"
   ]
  },
  {
   "cell_type": "code",
   "execution_count": 66,
   "metadata": {},
   "outputs": [
    {
     "data": {
      "text/plain": [
       "array(['6/9/15', '5/13/15', '3/18/15', ..., '12/21/66', '11/2/66',\n",
       "       '11/15/66'], dtype=object)"
      ]
     },
     "execution_count": 66,
     "metadata": {},
     "output_type": "execute_result"
    }
   ],
   "source": [
    "#Check if all columns have data in consistent format\n",
    "df_mov['release_date'].unique()"
   ]
  },
  {
   "cell_type": "markdown",
   "metadata": {},
   "source": [
    "#### Find rows from date column containing - instead of /"
   ]
  },
  {
   "cell_type": "code",
   "execution_count": 67,
   "metadata": {},
   "outputs": [
    {
     "data": {
      "text/plain": [
       "(0, 19)"
      ]
     },
     "execution_count": 67,
     "metadata": {},
     "output_type": "execute_result"
    }
   ],
   "source": [
    "df_mov[df_mov['release_date'].str.contains('-')].shape"
   ]
  },
  {
   "cell_type": "markdown",
   "metadata": {},
   "source": [
    "### Research Question 1  - Find directors whose films have grossed most & least amount of (revenue/budget) ?"
   ]
  },
  {
   "cell_type": "code",
   "execution_count": 68,
   "metadata": {},
   "outputs": [
    {
     "data": {
      "text/plain": [
       "2854"
      ]
     },
     "execution_count": 68,
     "metadata": {},
     "output_type": "execute_result"
    }
   ],
   "source": [
    "#Check rows where budget_adj, revenue_adj is zero\n",
    "\n",
    "len(df_mov[((df_mov['revenue_adj']==0 ) & (df_mov['revenue']==0 ))])"
   ]
  },
  {
   "cell_type": "code",
   "execution_count": 69,
   "metadata": {},
   "outputs": [],
   "source": [
    "df_mov_pos=df_mov[((df_mov['revenue_adj']>0 ) & (df_mov['budget_adj']>0 ))]"
   ]
  },
  {
   "cell_type": "code",
   "execution_count": 70,
   "metadata": {},
   "outputs": [
    {
     "data": {
      "text/plain": [
       "3445"
      ]
     },
     "execution_count": 70,
     "metadata": {},
     "output_type": "execute_result"
    }
   ],
   "source": [
    "len(df_mov_pos)"
   ]
  },
  {
   "cell_type": "markdown",
   "metadata": {},
   "source": [
    "#### Calculate needed column of revenue_adj / budget_adj"
   ]
  },
  {
   "cell_type": "code",
   "execution_count": 71,
   "metadata": {},
   "outputs": [
    {
     "name": "stderr",
     "output_type": "stream",
     "text": [
      "C:\\Users\\Saurabh\\Anaconda3\\lib\\site-packages\\ipykernel_launcher.py:2: SettingWithCopyWarning: \n",
      "A value is trying to be set on a copy of a slice from a DataFrame.\n",
      "Try using .loc[row_indexer,col_indexer] = value instead\n",
      "\n",
      "See the caveats in the documentation: https://pandas.pydata.org/pandas-docs/stable/user_guide/indexing.html#returning-a-view-versus-a-copy\n",
      "  \n"
     ]
    }
   ],
   "source": [
    "#Calculate the neVw needed column\n",
    "df_mov_pos['revenue_adj_budget_adj']=df_mov_pos['revenue_adj']/df_mov_pos['budget_adj']"
   ]
  },
  {
   "cell_type": "code",
   "execution_count": 72,
   "metadata": {},
   "outputs": [
    {
     "data": {
      "text/plain": [
       "425000000.0"
      ]
     },
     "execution_count": 72,
     "metadata": {},
     "output_type": "execute_result"
    }
   ],
   "source": [
    "max(df_mov_pos['budget_adj'])\n",
    "# df_mov.info()"
   ]
  },
  {
   "cell_type": "code",
   "execution_count": 73,
   "metadata": {},
   "outputs": [
    {
     "name": "stdout",
     "output_type": "stream",
     "text": [
      "(3445, 20)\n",
      "(7030, 19)\n",
      "Index(['id', 'imdb_id', 'popularity', 'vote_count', 'vote_average',\n",
      "       'original_title', 'tagline', 'cast', 'director', 'keywords', 'genres',\n",
      "       'runtime', 'production_companies', 'release_date', 'release_year',\n",
      "       'budget', 'revenue', 'budget_adj', 'revenue_adj'],\n",
      "      dtype='object')\n"
     ]
    }
   ],
   "source": [
    "print(df_mov_pos.shape)\n",
    "print(df_mov.shape)\n",
    "print(df_mov.columns)"
   ]
  },
  {
   "cell_type": "code",
   "execution_count": 79,
   "metadata": {},
   "outputs": [
    {
     "data": {
      "text/plain": [
       "(pandas.core.series.Series,\n",
       " director\n",
       " Aaron Blaise|Robert Walker        0.000003\n",
       " Aaron Seltzer|Jason Friedberg     2.427421\n",
       " Abe Sylvia                        0.013781\n",
       " Abel Ferrara                      4.606935\n",
       " Adam Green                        0.021042\n",
       "                                    ...    \n",
       " Yorgos Lanthimos                  2.266128\n",
       " Zach Braff                        0.996963\n",
       " Zack Snyder                      17.374281\n",
       " Zal Batmanglij                    0.369463\n",
       " Ã‰mile Gaudreault                 0.695065\n",
       " Name: revenue_adj_budget_adj, Length: 1536, dtype: float64)"
      ]
     },
     "execution_count": 79,
     "metadata": {},
     "output_type": "execute_result"
    }
   ],
   "source": [
    "#Group by director and sum on newly created column\n",
    "df_director_groupby=df_mov_pos.groupby(['director'])['revenue_adj_budget_adj'].sum()\n",
    "type(df_director_groupby), df_director_groupby\n"
   ]
  },
  {
   "cell_type": "markdown",
   "metadata": {},
   "source": [
    "#### Find Director with maximum (revenue_adj / budget_adj)"
   ]
  },
  {
   "cell_type": "code",
   "execution_count": 80,
   "metadata": {},
   "outputs": [
    {
     "data": {
      "text/plain": [
       "'John G. Avildsen'"
      ]
     },
     "execution_count": 80,
     "metadata": {},
     "output_type": "execute_result"
    }
   ],
   "source": [
    "#Find director with maximum of revenue_adj / budget_adj)\n",
    "df_director_groupby[df_director_groupby==max(df_director_groupby)].index[0]"
   ]
  },
  {
   "cell_type": "markdown",
   "metadata": {},
   "source": [
    "Shorter way to achieve same output as earlier cell"
   ]
  },
  {
   "cell_type": "code",
   "execution_count": 86,
   "metadata": {},
   "outputs": [
    {
     "data": {
      "text/plain": [
       "'John G. Avildsen'"
      ]
     },
     "execution_count": 86,
     "metadata": {},
     "output_type": "execute_result"
    }
   ],
   "source": [
    "df_director_groupby.idxmax()"
   ]
  },
  {
   "cell_type": "markdown",
   "metadata": {},
   "source": [
    "#### Find Director with minimum (revenue_adj / budget_adj)"
   ]
  },
  {
   "cell_type": "code",
   "execution_count": 30,
   "metadata": {},
   "outputs": [
    {
     "data": {
      "text/plain": [
       "'Andy Cadiff'"
      ]
     },
     "execution_count": 30,
     "metadata": {},
     "output_type": "execute_result"
    }
   ],
   "source": [
    "#Find director with minimum of revenue_adj / budget_adj)\n",
    "df_director_groupby[df_director_groupby==min(df_director_groupby)].index[0]"
   ]
  },
  {
   "cell_type": "markdown",
   "metadata": {},
   "source": [
    "Shorter way to achieve same output as earlier cell"
   ]
  },
  {
   "cell_type": "code",
   "execution_count": 88,
   "metadata": {},
   "outputs": [
    {
     "data": {
      "text/plain": [
       "'Andy Cadiff'"
      ]
     },
     "execution_count": 88,
     "metadata": {},
     "output_type": "execute_result"
    }
   ],
   "source": [
    "df_director_groupby.idxmin()"
   ]
  },
  {
   "cell_type": "markdown",
   "metadata": {},
   "source": [
    "### Research Question 2 - Who is director with maximum number of films?"
   ]
  },
  {
   "cell_type": "code",
   "execution_count": 89,
   "metadata": {},
   "outputs": [
    {
     "data": {
      "text/plain": [
       "id                      7030\n",
       "imdb_id                 7030\n",
       "popularity              7015\n",
       "vote_count              1277\n",
       "vote_average              64\n",
       "original_title          6860\n",
       "tagline                 6993\n",
       "cast                    7003\n",
       "director                3190\n",
       "keywords                6815\n",
       "genres                  1560\n",
       "runtime                  188\n",
       "production_companies    5387\n",
       "release_date            4621\n",
       "release_year              56\n",
       "budget                   447\n",
       "revenue                 4076\n",
       "budget_adj              2296\n",
       "revenue_adj             4169\n",
       "dtype: int64"
      ]
     },
     "execution_count": 89,
     "metadata": {},
     "output_type": "execute_result"
    }
   ],
   "source": [
    "# Use this, and more code cells, to explore your data. Don't forget to add\n",
    "#   Markdown cells to document your observations and findings.\n",
    "df_mov.nunique()"
   ]
  },
  {
   "cell_type": "markdown",
   "metadata": {},
   "source": [
    "#### Using mode() function to find Director with maximum number of films."
   ]
  },
  {
   "cell_type": "code",
   "execution_count": 95,
   "metadata": {},
   "outputs": [
    {
     "data": {
      "text/plain": [
       "'Steven Spielberg'"
      ]
     },
     "execution_count": 95,
     "metadata": {},
     "output_type": "execute_result"
    }
   ],
   "source": [
    "df_mov['director'].mode()[0]"
   ]
  },
  {
   "cell_type": "markdown",
   "metadata": {},
   "source": [
    "### Research Question 3 - What is the trend of revenue(inflation adjusted to 2010 USD) on yearly basis?"
   ]
  },
  {
   "cell_type": "code",
   "execution_count": 96,
   "metadata": {},
   "outputs": [
    {
     "name": "stdout",
     "output_type": "stream",
     "text": [
      "<class 'pandas.core.series.Series'>\n"
     ]
    }
   ],
   "source": [
    "\n",
    "yearly_revenue=((df_mov.groupby(['release_year'])['budget_adj'].sum()))\n",
    "print(type(yearly_revenue))"
   ]
  },
  {
   "cell_type": "code",
   "execution_count": 97,
   "metadata": {},
   "outputs": [
    {
     "data": {
      "text/plain": [
       "release_year\n",
       "1960    1.405063e+08\n",
       "1961    2.927938e+08\n",
       "1962    3.944616e+08\n",
       "1963    5.216599e+08\n",
       "1964    2.775772e+08\n",
       "1965    2.812871e+08\n",
       "1966    3.866540e+08\n",
       "1967    5.794972e+08\n",
       "1968    4.492590e+08\n",
       "1969    1.780550e+08\n",
       "1970    5.394241e+08\n",
       "1971    3.890911e+08\n",
       "1972    1.612707e+08\n",
       "1973    3.054289e+08\n",
       "1974    2.961604e+08\n",
       "1975    2.077733e+08\n",
       "1976    4.450517e+08\n",
       "1977    5.705361e+08\n",
       "1978    6.484739e+08\n",
       "1979    7.656024e+08\n",
       "1980    9.327280e+08\n",
       "1981    7.866354e+08\n",
       "1982    9.124323e+08\n",
       "1983    1.090294e+09\n",
       "1984    1.406803e+09\n",
       "1985    1.410220e+09\n",
       "1986    1.192273e+09\n",
       "1987    1.317928e+09\n",
       "1988    1.635389e+09\n",
       "1989    1.796199e+09\n",
       "1990    2.008394e+09\n",
       "1991    2.178127e+09\n",
       "1992    2.095331e+09\n",
       "1993    2.416856e+09\n",
       "1994    3.120562e+09\n",
       "1995    3.685097e+09\n",
       "1996    4.606803e+09\n",
       "1997    6.042142e+09\n",
       "1998    5.791633e+09\n",
       "1999    6.709910e+09\n",
       "2000    6.734395e+09\n",
       "2001    6.689998e+09\n",
       "2002    6.540393e+09\n",
       "2003    6.864984e+09\n",
       "2004    7.799204e+09\n",
       "2005    7.627383e+09\n",
       "2006    7.163845e+09\n",
       "2007    7.365798e+09\n",
       "2008    7.064308e+09\n",
       "2009    7.805086e+09\n",
       "2010    8.488896e+09\n",
       "2011    8.166164e+09\n",
       "2012    7.277424e+09\n",
       "2013    7.825392e+09\n",
       "2014    6.830483e+09\n",
       "2015    6.626709e+09\n",
       "Name: budget_adj, dtype: float64"
      ]
     },
     "execution_count": 97,
     "metadata": {},
     "output_type": "execute_result"
    }
   ],
   "source": [
    "yearly_revenue"
   ]
  },
  {
   "cell_type": "markdown",
   "metadata": {},
   "source": [
    "#### Graphical representaion depicting revenue trend."
   ]
  },
  {
   "cell_type": "code",
   "execution_count": 98,
   "metadata": {},
   "outputs": [
    {
     "data": {
      "text/plain": [
       "Text(0, 0.5, 'Revenue')"
      ]
     },
     "execution_count": 98,
     "metadata": {},
     "output_type": "execute_result"
    },
    {
     "data": {
      "image/png": "[encoded data removed]",
      "text/plain": [
       "<Figure size 1440x720 with 1 Axes>"
      ]
     },
     "metadata": {
      "needs_background": "light"
     },
     "output_type": "display_data"
    }
   ],
   "source": [
    "\n",
    "\n",
    "yearly_plot=yearly_revenue.plot(kind='bar',figsize=(20,10), grid=True, title='yearly revenue scaled to inflation for 2010')\n",
    "yearly_plot.set_xlabel(\"Year\")\n",
    "yearly_plot.set_ylabel(\"Revenue\")\n",
    "\n"
   ]
  },
  {
   "cell_type": "markdown",
   "metadata": {},
   "source": [
    "### Research Question 4 - Which year was witness to most amount of revenue collected in 2010 USD?"
   ]
  },
  {
   "cell_type": "code",
   "execution_count": 36,
   "metadata": {},
   "outputs": [
    {
     "data": {
      "text/plain": [
       "2010"
      ]
     },
     "execution_count": 36,
     "metadata": {},
     "output_type": "execute_result"
    }
   ],
   "source": [
    "yearly_revenue[yearly_revenue==max(yearly_revenue)].index[0]"
   ]
  },
  {
   "cell_type": "markdown",
   "metadata": {},
   "source": [
    "Shorter way to achieve same output as earlier cell"
   ]
  },
  {
   "cell_type": "code",
   "execution_count": 100,
   "metadata": {},
   "outputs": [
    {
     "data": {
      "text/plain": [
       "2010"
      ]
     },
     "execution_count": 100,
     "metadata": {},
     "output_type": "execute_result"
    }
   ],
   "source": [
    "yearly_revenue.idxmax()"
   ]
  },
  {
   "cell_type": "markdown",
   "metadata": {},
   "source": [
    "### Research Question 5 - Which year was witness to least amount of revenue collected in 2010 USD?"
   ]
  },
  {
   "cell_type": "code",
   "execution_count": 103,
   "metadata": {},
   "outputs": [
    {
     "data": {
      "text/plain": [
       "1960"
      ]
     },
     "execution_count": 103,
     "metadata": {},
     "output_type": "execute_result"
    }
   ],
   "source": [
    "yearly_revenue[yearly_revenue==min(yearly_revenue)].index[0]\n"
   ]
  },
  {
   "cell_type": "markdown",
   "metadata": {},
   "source": [
    "Shorter way to achieve same output as earlier cell"
   ]
  },
  {
   "cell_type": "code",
   "execution_count": 104,
   "metadata": {},
   "outputs": [
    {
     "data": {
      "text/plain": [
       "1960"
      ]
     },
     "execution_count": 104,
     "metadata": {},
     "output_type": "execute_result"
    }
   ],
   "source": [
    "yearly_revenue.idxmin()"
   ]
  },
  {
   "cell_type": "markdown",
   "metadata": {},
   "source": [
    "### Research Question 6 -  What is the most successful genre in each year? Success in this context means having highest vote_average rating."
   ]
  },
  {
   "cell_type": "code",
   "execution_count": 105,
   "metadata": {},
   "outputs": [
    {
     "data": {
      "text/html": [
       "<div>\n",
       "<style scoped>\n",
       "    .dataframe tbody tr th:only-of-type {\n",
       "        vertical-align: middle;\n",
       "    }\n",
       "\n",
       "    .dataframe tbody tr th {\n",
       "        vertical-align: top;\n",
       "    }\n",
       "\n",
       "    .dataframe thead th {\n",
       "        text-align: right;\n",
       "    }\n",
       "</style>\n",
       "<table border=\"1\" class=\"dataframe\">\n",
       "  <thead>\n",
       "    <tr style=\"text-align: right;\">\n",
       "      <th></th>\n",
       "      <th>id</th>\n",
       "      <th>popularity</th>\n",
       "      <th>vote_count</th>\n",
       "      <th>vote_average</th>\n",
       "      <th>runtime</th>\n",
       "      <th>release_year</th>\n",
       "      <th>budget</th>\n",
       "      <th>revenue</th>\n",
       "      <th>budget_adj</th>\n",
       "      <th>revenue_adj</th>\n",
       "    </tr>\n",
       "  </thead>\n",
       "  <tbody>\n",
       "    <tr>\n",
       "      <th>count</th>\n",
       "      <td>7030.000000</td>\n",
       "      <td>7030.000000</td>\n",
       "      <td>7030.000000</td>\n",
       "      <td>7030.000000</td>\n",
       "      <td>7030.000000</td>\n",
       "      <td>7030.000000</td>\n",
       "      <td>7.030000e+03</td>\n",
       "      <td>7.030000e+03</td>\n",
       "      <td>7.030000e+03</td>\n",
       "      <td>7.030000e+03</td>\n",
       "    </tr>\n",
       "    <tr>\n",
       "      <th>mean</th>\n",
       "      <td>51923.701422</td>\n",
       "      <td>0.829578</td>\n",
       "      <td>312.752205</td>\n",
       "      <td>6.013329</td>\n",
       "      <td>104.849075</td>\n",
       "      <td>1999.380939</td>\n",
       "      <td>2.084592e+07</td>\n",
       "      <td>5.933303e+07</td>\n",
       "      <td>2.501234e+07</td>\n",
       "      <td>7.645232e+07</td>\n",
       "    </tr>\n",
       "    <tr>\n",
       "      <th>std</th>\n",
       "      <td>81410.657714</td>\n",
       "      <td>1.180330</td>\n",
       "      <td>693.268737</td>\n",
       "      <td>0.876545</td>\n",
       "      <td>23.794219</td>\n",
       "      <td>13.469048</td>\n",
       "      <td>3.602527e+07</td>\n",
       "      <td>1.404243e+08</td>\n",
       "      <td>3.953679e+07</td>\n",
       "      <td>1.730569e+08</td>\n",
       "    </tr>\n",
       "    <tr>\n",
       "      <th>min</th>\n",
       "      <td>5.000000</td>\n",
       "      <td>0.000188</td>\n",
       "      <td>10.000000</td>\n",
       "      <td>1.500000</td>\n",
       "      <td>0.000000</td>\n",
       "      <td>1960.000000</td>\n",
       "      <td>0.000000e+00</td>\n",
       "      <td>0.000000e+00</td>\n",
       "      <td>0.000000e+00</td>\n",
       "      <td>0.000000e+00</td>\n",
       "    </tr>\n",
       "    <tr>\n",
       "      <th>25%</th>\n",
       "      <td>9540.250000</td>\n",
       "      <td>0.278587</td>\n",
       "      <td>24.000000</td>\n",
       "      <td>5.500000</td>\n",
       "      <td>92.000000</td>\n",
       "      <td>1992.000000</td>\n",
       "      <td>0.000000e+00</td>\n",
       "      <td>0.000000e+00</td>\n",
       "      <td>0.000000e+00</td>\n",
       "      <td>0.000000e+00</td>\n",
       "    </tr>\n",
       "    <tr>\n",
       "      <th>50%</th>\n",
       "      <td>14738.500000</td>\n",
       "      <td>0.506241</td>\n",
       "      <td>73.000000</td>\n",
       "      <td>6.100000</td>\n",
       "      <td>101.000000</td>\n",
       "      <td>2003.000000</td>\n",
       "      <td>5.000000e+06</td>\n",
       "      <td>4.859580e+06</td>\n",
       "      <td>6.951084e+06</td>\n",
       "      <td>6.457481e+06</td>\n",
       "    </tr>\n",
       "    <tr>\n",
       "      <th>75%</th>\n",
       "      <td>46964.750000</td>\n",
       "      <td>0.956460</td>\n",
       "      <td>263.000000</td>\n",
       "      <td>6.600000</td>\n",
       "      <td>114.000000</td>\n",
       "      <td>2010.000000</td>\n",
       "      <td>2.600000e+07</td>\n",
       "      <td>5.473358e+07</td>\n",
       "      <td>3.463336e+07</td>\n",
       "      <td>7.528359e+07</td>\n",
       "    </tr>\n",
       "    <tr>\n",
       "      <th>max</th>\n",
       "      <td>417859.000000</td>\n",
       "      <td>32.985763</td>\n",
       "      <td>9767.000000</td>\n",
       "      <td>8.400000</td>\n",
       "      <td>705.000000</td>\n",
       "      <td>2015.000000</td>\n",
       "      <td>4.250000e+08</td>\n",
       "      <td>2.781506e+09</td>\n",
       "      <td>4.250000e+08</td>\n",
       "      <td>2.827124e+09</td>\n",
       "    </tr>\n",
       "  </tbody>\n",
       "</table>\n",
       "</div>"
      ],
      "text/plain": [
       "                  id   popularity   vote_count  vote_average      runtime  \\\n",
       "count    7030.000000  7030.000000  7030.000000   7030.000000  7030.000000   \n",
       "mean    51923.701422     0.829578   312.752205      6.013329   104.849075   \n",
       "std     81410.657714     1.180330   693.268737      0.876545    23.794219   \n",
       "min         5.000000     0.000188    10.000000      1.500000     0.000000   \n",
       "25%      9540.250000     0.278587    24.000000      5.500000    92.000000   \n",
       "50%     14738.500000     0.506241    73.000000      6.100000   101.000000   \n",
       "75%     46964.750000     0.956460   263.000000      6.600000   114.000000   \n",
       "max    417859.000000    32.985763  9767.000000      8.400000   705.000000   \n",
       "\n",
       "       release_year        budget       revenue    budget_adj   revenue_adj  \n",
       "count   7030.000000  7.030000e+03  7.030000e+03  7.030000e+03  7.030000e+03  \n",
       "mean    1999.380939  2.084592e+07  5.933303e+07  2.501234e+07  7.645232e+07  \n",
       "std       13.469048  3.602527e+07  1.404243e+08  3.953679e+07  1.730569e+08  \n",
       "min     1960.000000  0.000000e+00  0.000000e+00  0.000000e+00  0.000000e+00  \n",
       "25%     1992.000000  0.000000e+00  0.000000e+00  0.000000e+00  0.000000e+00  \n",
       "50%     2003.000000  5.000000e+06  4.859580e+06  6.951084e+06  6.457481e+06  \n",
       "75%     2010.000000  2.600000e+07  5.473358e+07  3.463336e+07  7.528359e+07  \n",
       "max     2015.000000  4.250000e+08  2.781506e+09  4.250000e+08  2.827124e+09  "
      ]
     },
     "execution_count": 105,
     "metadata": {},
     "output_type": "execute_result"
    }
   ],
   "source": [
    "# Check min,max mean values of vote_average column\n",
    "df_mov.describe()"
   ]
  },
  {
   "cell_type": "markdown",
   "metadata": {},
   "source": [
    "#### Create a Series which will contain distinct genres\n"
   ]
  },
  {
   "cell_type": "code",
   "execution_count": 106,
   "metadata": {},
   "outputs": [
    {
     "data": {
      "text/plain": [
       "7030"
      ]
     },
     "execution_count": 106,
     "metadata": {},
     "output_type": "execute_result"
    }
   ],
   "source": [
    "#Create a Series which will contain distinct genres\n",
    "series_genres=df_mov['genres']\n",
    "type(series_genres)\n",
    "len(series_genres)"
   ]
  },
  {
   "cell_type": "code",
   "execution_count": 107,
   "metadata": {},
   "outputs": [
    {
     "data": {
      "text/plain": [
       "0    Action|Adventure|Science Fiction|Thriller\n",
       "1    Action|Adventure|Science Fiction|Thriller\n",
       "2           Adventure|Science Fiction|Thriller\n",
       "3     Action|Adventure|Science Fiction|Fantasy\n",
       "4                        Action|Crime|Thriller\n",
       "Name: genres, dtype: object"
      ]
     },
     "execution_count": 107,
     "metadata": {},
     "output_type": "execute_result"
    }
   ],
   "source": [
    "\n",
    "series_genres.head()"
   ]
  },
  {
   "cell_type": "code",
   "execution_count": 108,
   "metadata": {},
   "outputs": [],
   "source": [
    "string_genres=series_genres.str.cat(sep='|')"
   ]
  },
  {
   "cell_type": "code",
   "execution_count": 109,
   "metadata": {},
   "outputs": [
    {
     "name": "stdout",
     "output_type": "stream",
     "text": [
      "<class 'pandas.core.series.Series'>\n",
      "<class 'str'>\n"
     ]
    }
   ],
   "source": [
    "print(type(series_genres))\n",
    "print(type(string_genres))"
   ]
  },
  {
   "cell_type": "code",
   "execution_count": 111,
   "metadata": {},
   "outputs": [],
   "source": [
    "#Convert string to lowr case for simplicity and consistency purpose\n",
    "string_genres=string_genres.lower()\n",
    "#Convert string to a series\n",
    "series_genres=pd.Series(string_genres.split('|'))\n",
    "#Keep only unique elements in the series\n",
    "series_genres=series_genres.unique()"
   ]
  },
  {
   "cell_type": "code",
   "execution_count": 112,
   "metadata": {},
   "outputs": [
    {
     "name": "stdout",
     "output_type": "stream",
     "text": [
      "length of series_genres is  20\n"
     ]
    }
   ],
   "source": [
    "print('length of series_genres is ',len(series_genres))"
   ]
  },
  {
   "cell_type": "markdown",
   "metadata": {},
   "source": [
    "#### Create series_years to join with series_genres"
   ]
  },
  {
   "cell_type": "code",
   "execution_count": 113,
   "metadata": {},
   "outputs": [],
   "source": [
    "series_years=df_mov['release_year'].unique()"
   ]
  },
  {
   "cell_type": "code",
   "execution_count": 114,
   "metadata": {},
   "outputs": [
    {
     "data": {
      "text/plain": [
       "pandas.core.frame.DataFrame"
      ]
     },
     "execution_count": 114,
     "metadata": {},
     "output_type": "execute_result"
    }
   ],
   "source": [
    "len(series_years)\n",
    "series_years=pd.DataFrame(series_years)\n",
    "type(series_years)"
   ]
  },
  {
   "cell_type": "code",
   "execution_count": 115,
   "metadata": {},
   "outputs": [
    {
     "name": "stdout",
     "output_type": "stream",
     "text": [
      "20\n"
     ]
    },
    {
     "data": {
      "text/plain": [
       "pandas.core.frame.DataFrame"
      ]
     },
     "execution_count": 115,
     "metadata": {},
     "output_type": "execute_result"
    }
   ],
   "source": [
    "print(len(series_genres))\n",
    "series_genres=pd.DataFrame(series_genres)\n",
    "type(series_genres)\n"
   ]
  },
  {
   "cell_type": "markdown",
   "metadata": {},
   "source": [
    "#### Add dummy column called key to perform outer join on series_years and series_genres"
   ]
  },
  {
   "cell_type": "code",
   "execution_count": 116,
   "metadata": {},
   "outputs": [],
   "source": [
    "#add dummy column called key to perform outer join\n",
    "series_years['key']=1\n",
    "series_genres['key']=1"
   ]
  },
  {
   "cell_type": "code",
   "execution_count": 117,
   "metadata": {},
   "outputs": [
    {
     "name": "stdout",
     "output_type": "stream",
     "text": [
      "<class 'pandas.core.frame.DataFrame'>\n",
      "<class 'pandas.core.frame.DataFrame'>\n",
      "<class 'pandas.core.frame.DataFrame'>\n",
      "RangeIndex: 20 entries, 0 to 19\n",
      "Data columns (total 2 columns):\n",
      " #   Column  Non-Null Count  Dtype \n",
      "---  ------  --------------  ----- \n",
      " 0   0       20 non-null     object\n",
      " 1   key     20 non-null     int64 \n",
      "dtypes: int64(1), object(1)\n",
      "memory usage: 448.0+ bytes\n",
      "None\n",
      "<class 'pandas.core.frame.DataFrame'>\n",
      "RangeIndex: 56 entries, 0 to 55\n",
      "Data columns (total 2 columns):\n",
      " #   Column  Non-Null Count  Dtype\n",
      "---  ------  --------------  -----\n",
      " 0   0       56 non-null     int64\n",
      " 1   key     56 non-null     int64\n",
      "dtypes: int64(2)\n",
      "memory usage: 1.0 KB\n",
      "None\n"
     ]
    }
   ],
   "source": [
    "print(type(series_genres))\n",
    "print(type(series_years))\n",
    "print(series_genres.info())\n",
    "print(series_years.info())"
   ]
  },
  {
   "cell_type": "code",
   "execution_count": 118,
   "metadata": {},
   "outputs": [
    {
     "data": {
      "text/plain": [
       "56"
      ]
     },
     "execution_count": 118,
     "metadata": {},
     "output_type": "execute_result"
    }
   ],
   "source": [
    "len(series_years)"
   ]
  },
  {
   "cell_type": "code",
   "execution_count": 119,
   "metadata": {},
   "outputs": [],
   "source": [
    "df_year_genre = pd.merge(series_years, series_genres, on='key', how='outer')"
   ]
  },
  {
   "cell_type": "code",
   "execution_count": 120,
   "metadata": {},
   "outputs": [
    {
     "name": "stdout",
     "output_type": "stream",
     "text": [
      "1120\n",
      "    0_x  key              0_y\n",
      "0  2015    1           action\n",
      "1  2015    1        adventure\n",
      "2  2015    1  science fiction\n",
      "3  2015    1         thriller\n",
      "4  2015    1          fantasy\n",
      "0    Action|Adventure|Science Fiction|Thriller\n",
      "1    Action|Adventure|Science Fiction|Thriller\n",
      "2           Adventure|Science Fiction|Thriller\n",
      "3     Action|Adventure|Science Fiction|Fantasy\n",
      "4                        Action|Crime|Thriller\n",
      "Name: genres, dtype: object\n"
     ]
    }
   ],
   "source": [
    "type(df_year_genre)\n",
    "print(len(df_year_genre))\n",
    "print(df_year_genre.head())\n",
    "print(df_mov['genres'].head())"
   ]
  },
  {
   "cell_type": "markdown",
   "metadata": {},
   "source": [
    "#### Create a dataframe df_year_genre to answer the question"
   ]
  },
  {
   "cell_type": "code",
   "execution_count": 121,
   "metadata": {},
   "outputs": [],
   "source": [
    "#Change df_year_genre by adding column labels\n",
    "df_year_genre.rename(columns={'0_x':'year', '0_y':'genre'}, inplace=True)\n",
    "#drop key column\n",
    "df_year_genre.drop(['key'],axis=1, inplace=True)"
   ]
  },
  {
   "cell_type": "code",
   "execution_count": 122,
   "metadata": {},
   "outputs": [
    {
     "name": "stdout",
     "output_type": "stream",
     "text": [
      "<class 'pandas.core.frame.DataFrame'>\n",
      "Int64Index: 1120 entries, 0 to 1119\n",
      "Data columns (total 2 columns):\n",
      " #   Column  Non-Null Count  Dtype \n",
      "---  ------  --------------  ----- \n",
      " 0   year    1120 non-null   int64 \n",
      " 1   genre   1120 non-null   object\n",
      "dtypes: int64(1), object(1)\n",
      "memory usage: 26.2+ KB\n"
     ]
    }
   ],
   "source": [
    "df_year_genre.info()"
   ]
  },
  {
   "cell_type": "markdown",
   "metadata": {},
   "source": [
    "#### Generate a column avg_rating for the dataframe df_year_genre"
   ]
  },
  {
   "cell_type": "code",
   "execution_count": 123,
   "metadata": {},
   "outputs": [],
   "source": [
    "def calc_avg_rating(row):\n",
    "    result_rating = df_mov[(row['year'] == df_mov['release_year']) & (df_mov['genres'].str.lower().str.contains(row['genre']))]['vote_average'].mean()\n",
    "    #result = df_mov[(row['year'] == df_mov['release_year']) & (df_mov['genres'].str.contains(row['genre']))]['vote_average'].mean()\n",
    "    return result_rating"
   ]
  },
  {
   "cell_type": "code",
   "execution_count": 124,
   "metadata": {},
   "outputs": [],
   "source": [
    "df_year_genre['avg_rating']=df_year_genre.apply(calc_avg_rating, axis=1)"
   ]
  },
  {
   "cell_type": "code",
   "execution_count": 125,
   "metadata": {},
   "outputs": [
    {
     "name": "stdout",
     "output_type": "stream",
     "text": [
      "<class 'pandas.core.frame.DataFrame'>\n",
      "Int64Index: 1120 entries, 0 to 1119\n",
      "Data columns (total 3 columns):\n",
      " #   Column      Non-Null Count  Dtype  \n",
      "---  ------      --------------  -----  \n",
      " 0   year        1120 non-null   int64  \n",
      " 1   genre       1120 non-null   object \n",
      " 2   avg_rating  1000 non-null   float64\n",
      "dtypes: float64(1), int64(1), object(1)\n",
      "memory usage: 35.0+ KB\n"
     ]
    }
   ],
   "source": [
    "df_year_genre.info()\n"
   ]
  },
  {
   "cell_type": "code",
   "execution_count": 126,
   "metadata": {},
   "outputs": [
    {
     "name": "stdout",
     "output_type": "stream",
     "text": [
      "length of null values for avg_rating column is  120\n",
      "total length of df_year_genre is  1120\n"
     ]
    }
   ],
   "source": [
    "print('length of null values for avg_rating column is ',sum(df_year_genre['avg_rating'].isnull()))\n",
    "print('total length of df_year_genre is ',len(df_year_genre))"
   ]
  },
  {
   "cell_type": "markdown",
   "metadata": {},
   "source": [
    "#### Objective is to find most successful genre in each year"
   ]
  },
  {
   "cell_type": "code",
   "execution_count": 127,
   "metadata": {},
   "outputs": [],
   "source": [
    "#Objective is to find most successful genre in each year\n",
    "series_year_max_genre=df_year_genre.groupby(['year'])['avg_rating'].max()"
   ]
  },
  {
   "cell_type": "code",
   "execution_count": 128,
   "metadata": {},
   "outputs": [],
   "source": [
    "#Convert series to dataframe using constructor\n",
    "df_year_max_genre=pd.DataFrame()"
   ]
  },
  {
   "cell_type": "code",
   "execution_count": 129,
   "metadata": {},
   "outputs": [
    {
     "data": {
      "text/plain": [
       "Int64Index([1960, 1961, 1962, 1963, 1964, 1965, 1966, 1967, 1968, 1969, 1970,\n",
       "            1971, 1972, 1973, 1974, 1975, 1976, 1977, 1978, 1979, 1980, 1981,\n",
       "            1982, 1983, 1984, 1985, 1986, 1987, 1988, 1989, 1990, 1991, 1992,\n",
       "            1993, 1994, 1995, 1996, 1997, 1998, 1999, 2000, 2001, 2002, 2003,\n",
       "            2004, 2005, 2006, 2007, 2008, 2009, 2010, 2011, 2012, 2013, 2014,\n",
       "            2015],\n",
       "           dtype='int64', name='year')"
      ]
     },
     "execution_count": 129,
     "metadata": {},
     "output_type": "execute_result"
    }
   ],
   "source": [
    "series_year_max_genre.index"
   ]
  },
  {
   "cell_type": "code",
   "execution_count": 130,
   "metadata": {},
   "outputs": [],
   "source": [
    "df_year_max_genre['year']=series_year_max_genre.index"
   ]
  },
  {
   "cell_type": "code",
   "execution_count": 131,
   "metadata": {},
   "outputs": [
    {
     "data": {
      "text/plain": [
       "array([7.03333333, 7.05      , 7.2       , 7.5       , 7.03333333,\n",
       "       7.6       , 7.15      , 7.2       , 7.4       , 7.        ,\n",
       "       6.9       , 7.2       , 7.6       , 7.125     , 7.5       ,\n",
       "       7.2       , 7.        , 6.83333333, 7.03333333, 6.825     ,\n",
       "       7.1       , 7.        , 7.225     , 7.2       , 8.4       ,\n",
       "       6.95      , 7.03333333, 7.16666667, 6.73333333, 8.2       ,\n",
       "       6.6       , 7.8       , 6.85      , 6.96666667, 7.2       ,\n",
       "       7.        , 7.        , 7.1       , 6.94      , 6.6       ,\n",
       "       6.87142857, 6.53333333, 7.1       , 7.26666667, 6.65      ,\n",
       "       7.2       , 6.7       , 6.98      , 6.825     , 7.11111111,\n",
       "       7.13333333, 7.06470588, 6.97      , 7.16      , 6.84705882,\n",
       "       6.875     ])"
      ]
     },
     "execution_count": 131,
     "metadata": {},
     "output_type": "execute_result"
    }
   ],
   "source": [
    "series_year_max_genre.values"
   ]
  },
  {
   "cell_type": "code",
   "execution_count": 132,
   "metadata": {},
   "outputs": [],
   "source": [
    "df_year_max_genre['rating']=series_year_max_genre.values"
   ]
  },
  {
   "cell_type": "code",
   "execution_count": 133,
   "metadata": {},
   "outputs": [
    {
     "data": {
      "text/html": [
       "<div>\n",
       "<style scoped>\n",
       "    .dataframe tbody tr th:only-of-type {\n",
       "        vertical-align: middle;\n",
       "    }\n",
       "\n",
       "    .dataframe tbody tr th {\n",
       "        vertical-align: top;\n",
       "    }\n",
       "\n",
       "    .dataframe thead th {\n",
       "        text-align: right;\n",
       "    }\n",
       "</style>\n",
       "<table border=\"1\" class=\"dataframe\">\n",
       "  <thead>\n",
       "    <tr style=\"text-align: right;\">\n",
       "      <th></th>\n",
       "      <th>year</th>\n",
       "      <th>rating</th>\n",
       "    </tr>\n",
       "  </thead>\n",
       "  <tbody>\n",
       "    <tr>\n",
       "      <th>0</th>\n",
       "      <td>1960</td>\n",
       "      <td>7.033333</td>\n",
       "    </tr>\n",
       "    <tr>\n",
       "      <th>1</th>\n",
       "      <td>1961</td>\n",
       "      <td>7.050000</td>\n",
       "    </tr>\n",
       "    <tr>\n",
       "      <th>2</th>\n",
       "      <td>1962</td>\n",
       "      <td>7.200000</td>\n",
       "    </tr>\n",
       "    <tr>\n",
       "      <th>3</th>\n",
       "      <td>1963</td>\n",
       "      <td>7.500000</td>\n",
       "    </tr>\n",
       "    <tr>\n",
       "      <th>4</th>\n",
       "      <td>1964</td>\n",
       "      <td>7.033333</td>\n",
       "    </tr>\n",
       "    <tr>\n",
       "      <th>5</th>\n",
       "      <td>1965</td>\n",
       "      <td>7.600000</td>\n",
       "    </tr>\n",
       "    <tr>\n",
       "      <th>6</th>\n",
       "      <td>1966</td>\n",
       "      <td>7.150000</td>\n",
       "    </tr>\n",
       "    <tr>\n",
       "      <th>7</th>\n",
       "      <td>1967</td>\n",
       "      <td>7.200000</td>\n",
       "    </tr>\n",
       "    <tr>\n",
       "      <th>8</th>\n",
       "      <td>1968</td>\n",
       "      <td>7.400000</td>\n",
       "    </tr>\n",
       "    <tr>\n",
       "      <th>9</th>\n",
       "      <td>1969</td>\n",
       "      <td>7.000000</td>\n",
       "    </tr>\n",
       "    <tr>\n",
       "      <th>10</th>\n",
       "      <td>1970</td>\n",
       "      <td>6.900000</td>\n",
       "    </tr>\n",
       "    <tr>\n",
       "      <th>11</th>\n",
       "      <td>1971</td>\n",
       "      <td>7.200000</td>\n",
       "    </tr>\n",
       "    <tr>\n",
       "      <th>12</th>\n",
       "      <td>1972</td>\n",
       "      <td>7.600000</td>\n",
       "    </tr>\n",
       "    <tr>\n",
       "      <th>13</th>\n",
       "      <td>1973</td>\n",
       "      <td>7.125000</td>\n",
       "    </tr>\n",
       "    <tr>\n",
       "      <th>14</th>\n",
       "      <td>1974</td>\n",
       "      <td>7.500000</td>\n",
       "    </tr>\n",
       "    <tr>\n",
       "      <th>15</th>\n",
       "      <td>1975</td>\n",
       "      <td>7.200000</td>\n",
       "    </tr>\n",
       "    <tr>\n",
       "      <th>16</th>\n",
       "      <td>1976</td>\n",
       "      <td>7.000000</td>\n",
       "    </tr>\n",
       "    <tr>\n",
       "      <th>17</th>\n",
       "      <td>1977</td>\n",
       "      <td>6.833333</td>\n",
       "    </tr>\n",
       "    <tr>\n",
       "      <th>18</th>\n",
       "      <td>1978</td>\n",
       "      <td>7.033333</td>\n",
       "    </tr>\n",
       "    <tr>\n",
       "      <th>19</th>\n",
       "      <td>1979</td>\n",
       "      <td>6.825000</td>\n",
       "    </tr>\n",
       "    <tr>\n",
       "      <th>20</th>\n",
       "      <td>1980</td>\n",
       "      <td>7.100000</td>\n",
       "    </tr>\n",
       "    <tr>\n",
       "      <th>21</th>\n",
       "      <td>1981</td>\n",
       "      <td>7.000000</td>\n",
       "    </tr>\n",
       "    <tr>\n",
       "      <th>22</th>\n",
       "      <td>1982</td>\n",
       "      <td>7.225000</td>\n",
       "    </tr>\n",
       "    <tr>\n",
       "      <th>23</th>\n",
       "      <td>1983</td>\n",
       "      <td>7.200000</td>\n",
       "    </tr>\n",
       "    <tr>\n",
       "      <th>24</th>\n",
       "      <td>1984</td>\n",
       "      <td>8.400000</td>\n",
       "    </tr>\n",
       "    <tr>\n",
       "      <th>25</th>\n",
       "      <td>1985</td>\n",
       "      <td>6.950000</td>\n",
       "    </tr>\n",
       "    <tr>\n",
       "      <th>26</th>\n",
       "      <td>1986</td>\n",
       "      <td>7.033333</td>\n",
       "    </tr>\n",
       "    <tr>\n",
       "      <th>27</th>\n",
       "      <td>1987</td>\n",
       "      <td>7.166667</td>\n",
       "    </tr>\n",
       "    <tr>\n",
       "      <th>28</th>\n",
       "      <td>1988</td>\n",
       "      <td>6.733333</td>\n",
       "    </tr>\n",
       "    <tr>\n",
       "      <th>29</th>\n",
       "      <td>1989</td>\n",
       "      <td>8.200000</td>\n",
       "    </tr>\n",
       "    <tr>\n",
       "      <th>30</th>\n",
       "      <td>1990</td>\n",
       "      <td>6.600000</td>\n",
       "    </tr>\n",
       "    <tr>\n",
       "      <th>31</th>\n",
       "      <td>1991</td>\n",
       "      <td>7.800000</td>\n",
       "    </tr>\n",
       "    <tr>\n",
       "      <th>32</th>\n",
       "      <td>1992</td>\n",
       "      <td>6.850000</td>\n",
       "    </tr>\n",
       "    <tr>\n",
       "      <th>33</th>\n",
       "      <td>1993</td>\n",
       "      <td>6.966667</td>\n",
       "    </tr>\n",
       "    <tr>\n",
       "      <th>34</th>\n",
       "      <td>1994</td>\n",
       "      <td>7.200000</td>\n",
       "    </tr>\n",
       "    <tr>\n",
       "      <th>35</th>\n",
       "      <td>1995</td>\n",
       "      <td>7.000000</td>\n",
       "    </tr>\n",
       "    <tr>\n",
       "      <th>36</th>\n",
       "      <td>1996</td>\n",
       "      <td>7.000000</td>\n",
       "    </tr>\n",
       "    <tr>\n",
       "      <th>37</th>\n",
       "      <td>1997</td>\n",
       "      <td>7.100000</td>\n",
       "    </tr>\n",
       "    <tr>\n",
       "      <th>38</th>\n",
       "      <td>1998</td>\n",
       "      <td>6.940000</td>\n",
       "    </tr>\n",
       "    <tr>\n",
       "      <th>39</th>\n",
       "      <td>1999</td>\n",
       "      <td>6.600000</td>\n",
       "    </tr>\n",
       "    <tr>\n",
       "      <th>40</th>\n",
       "      <td>2000</td>\n",
       "      <td>6.871429</td>\n",
       "    </tr>\n",
       "    <tr>\n",
       "      <th>41</th>\n",
       "      <td>2001</td>\n",
       "      <td>6.533333</td>\n",
       "    </tr>\n",
       "    <tr>\n",
       "      <th>42</th>\n",
       "      <td>2002</td>\n",
       "      <td>7.100000</td>\n",
       "    </tr>\n",
       "    <tr>\n",
       "      <th>43</th>\n",
       "      <td>2003</td>\n",
       "      <td>7.266667</td>\n",
       "    </tr>\n",
       "    <tr>\n",
       "      <th>44</th>\n",
       "      <td>2004</td>\n",
       "      <td>6.650000</td>\n",
       "    </tr>\n",
       "    <tr>\n",
       "      <th>45</th>\n",
       "      <td>2005</td>\n",
       "      <td>7.200000</td>\n",
       "    </tr>\n",
       "    <tr>\n",
       "      <th>46</th>\n",
       "      <td>2006</td>\n",
       "      <td>6.700000</td>\n",
       "    </tr>\n",
       "    <tr>\n",
       "      <th>47</th>\n",
       "      <td>2007</td>\n",
       "      <td>6.980000</td>\n",
       "    </tr>\n",
       "    <tr>\n",
       "      <th>48</th>\n",
       "      <td>2008</td>\n",
       "      <td>6.825000</td>\n",
       "    </tr>\n",
       "    <tr>\n",
       "      <th>49</th>\n",
       "      <td>2009</td>\n",
       "      <td>7.111111</td>\n",
       "    </tr>\n",
       "    <tr>\n",
       "      <th>50</th>\n",
       "      <td>2010</td>\n",
       "      <td>7.133333</td>\n",
       "    </tr>\n",
       "    <tr>\n",
       "      <th>51</th>\n",
       "      <td>2011</td>\n",
       "      <td>7.064706</td>\n",
       "    </tr>\n",
       "    <tr>\n",
       "      <th>52</th>\n",
       "      <td>2012</td>\n",
       "      <td>6.970000</td>\n",
       "    </tr>\n",
       "    <tr>\n",
       "      <th>53</th>\n",
       "      <td>2013</td>\n",
       "      <td>7.160000</td>\n",
       "    </tr>\n",
       "    <tr>\n",
       "      <th>54</th>\n",
       "      <td>2014</td>\n",
       "      <td>6.847059</td>\n",
       "    </tr>\n",
       "    <tr>\n",
       "      <th>55</th>\n",
       "      <td>2015</td>\n",
       "      <td>6.875000</td>\n",
       "    </tr>\n",
       "  </tbody>\n",
       "</table>\n",
       "</div>"
      ],
      "text/plain": [
       "    year    rating\n",
       "0   1960  7.033333\n",
       "1   1961  7.050000\n",
       "2   1962  7.200000\n",
       "3   1963  7.500000\n",
       "4   1964  7.033333\n",
       "5   1965  7.600000\n",
       "6   1966  7.150000\n",
       "7   1967  7.200000\n",
       "8   1968  7.400000\n",
       "9   1969  7.000000\n",
       "10  1970  6.900000\n",
       "11  1971  7.200000\n",
       "12  1972  7.600000\n",
       "13  1973  7.125000\n",
       "14  1974  7.500000\n",
       "15  1975  7.200000\n",
       "16  1976  7.000000\n",
       "17  1977  6.833333\n",
       "18  1978  7.033333\n",
       "19  1979  6.825000\n",
       "20  1980  7.100000\n",
       "21  1981  7.000000\n",
       "22  1982  7.225000\n",
       "23  1983  7.200000\n",
       "24  1984  8.400000\n",
       "25  1985  6.950000\n",
       "26  1986  7.033333\n",
       "27  1987  7.166667\n",
       "28  1988  6.733333\n",
       "29  1989  8.200000\n",
       "30  1990  6.600000\n",
       "31  1991  7.800000\n",
       "32  1992  6.850000\n",
       "33  1993  6.966667\n",
       "34  1994  7.200000\n",
       "35  1995  7.000000\n",
       "36  1996  7.000000\n",
       "37  1997  7.100000\n",
       "38  1998  6.940000\n",
       "39  1999  6.600000\n",
       "40  2000  6.871429\n",
       "41  2001  6.533333\n",
       "42  2002  7.100000\n",
       "43  2003  7.266667\n",
       "44  2004  6.650000\n",
       "45  2005  7.200000\n",
       "46  2006  6.700000\n",
       "47  2007  6.980000\n",
       "48  2008  6.825000\n",
       "49  2009  7.111111\n",
       "50  2010  7.133333\n",
       "51  2011  7.064706\n",
       "52  2012  6.970000\n",
       "53  2013  7.160000\n",
       "54  2014  6.847059\n",
       "55  2015  6.875000"
      ]
     },
     "execution_count": 133,
     "metadata": {},
     "output_type": "execute_result"
    }
   ],
   "source": [
    "df_year_max_genre"
   ]
  },
  {
   "cell_type": "code",
   "execution_count": 134,
   "metadata": {},
   "outputs": [],
   "source": [
    "df_year_max_genre.rename(columns={'rating':'avg_rating'},inplace=True)"
   ]
  },
  {
   "cell_type": "code",
   "execution_count": 135,
   "metadata": {},
   "outputs": [
    {
     "name": "stdout",
     "output_type": "stream",
     "text": [
      "<class 'pandas.core.frame.DataFrame'>\n",
      "RangeIndex: 56 entries, 0 to 55\n",
      "Data columns (total 2 columns):\n",
      " #   Column      Non-Null Count  Dtype  \n",
      "---  ------      --------------  -----  \n",
      " 0   year        56 non-null     int64  \n",
      " 1   avg_rating  56 non-null     float64\n",
      "dtypes: float64(1), int64(1)\n",
      "memory usage: 1.0 KB\n"
     ]
    }
   ],
   "source": [
    "df_year_max_genre.info()"
   ]
  },
  {
   "cell_type": "code",
   "execution_count": 136,
   "metadata": {},
   "outputs": [
    {
     "name": "stdout",
     "output_type": "stream",
     "text": [
      "datatype of df_year_genre is  <class 'pandas.core.frame.DataFrame'>\n",
      "datatype of df_year_max_genre is  <class 'pandas.core.frame.DataFrame'>\n"
     ]
    }
   ],
   "source": [
    "print('datatype of df_year_genre is ',type(df_year_genre))\n",
    "print('datatype of df_year_max_genre is ',type(df_year_max_genre))\n"
   ]
  },
  {
   "cell_type": "code",
   "execution_count": 137,
   "metadata": {},
   "outputs": [],
   "source": [
    "def find_genre(row):\n",
    "    \n",
    "    result_genre=df_year_genre[(df_year_genre['avg_rating']==row['avg_rating']) & (df_year_genre['year']==row['year'])]['genre'].iloc[0]\n",
    "    \n",
    "    return result_genre\n"
   ]
  },
  {
   "cell_type": "code",
   "execution_count": 138,
   "metadata": {},
   "outputs": [],
   "source": [
    "df_year_max_genre['genre']=df_year_max_genre.apply(find_genre, axis=1)"
   ]
  },
  {
   "cell_type": "markdown",
   "metadata": {},
   "source": [
    "#### df_year_max_genre represents successful genre in each year"
   ]
  },
  {
   "cell_type": "code",
   "execution_count": 139,
   "metadata": {},
   "outputs": [
    {
     "data": {
      "text/html": [
       "<div>\n",
       "<style scoped>\n",
       "    .dataframe tbody tr th:only-of-type {\n",
       "        vertical-align: middle;\n",
       "    }\n",
       "\n",
       "    .dataframe tbody tr th {\n",
       "        vertical-align: top;\n",
       "    }\n",
       "\n",
       "    .dataframe thead th {\n",
       "        text-align: right;\n",
       "    }\n",
       "</style>\n",
       "<table border=\"1\" class=\"dataframe\">\n",
       "  <thead>\n",
       "    <tr style=\"text-align: right;\">\n",
       "      <th></th>\n",
       "      <th>year</th>\n",
       "      <th>avg_rating</th>\n",
       "      <th>genre</th>\n",
       "    </tr>\n",
       "  </thead>\n",
       "  <tbody>\n",
       "    <tr>\n",
       "      <th>0</th>\n",
       "      <td>1960</td>\n",
       "      <td>7.033333</td>\n",
       "      <td>family</td>\n",
       "    </tr>\n",
       "    <tr>\n",
       "      <th>1</th>\n",
       "      <td>1961</td>\n",
       "      <td>7.050000</td>\n",
       "      <td>family</td>\n",
       "    </tr>\n",
       "    <tr>\n",
       "      <th>2</th>\n",
       "      <td>1962</td>\n",
       "      <td>7.200000</td>\n",
       "      <td>war</td>\n",
       "    </tr>\n",
       "    <tr>\n",
       "      <th>3</th>\n",
       "      <td>1963</td>\n",
       "      <td>7.500000</td>\n",
       "      <td>war</td>\n",
       "    </tr>\n",
       "    <tr>\n",
       "      <th>4</th>\n",
       "      <td>1964</td>\n",
       "      <td>7.033333</td>\n",
       "      <td>war</td>\n",
       "    </tr>\n",
       "    <tr>\n",
       "      <th>5</th>\n",
       "      <td>1965</td>\n",
       "      <td>7.600000</td>\n",
       "      <td>animation</td>\n",
       "    </tr>\n",
       "    <tr>\n",
       "      <th>6</th>\n",
       "      <td>1966</td>\n",
       "      <td>7.150000</td>\n",
       "      <td>animation</td>\n",
       "    </tr>\n",
       "    <tr>\n",
       "      <th>7</th>\n",
       "      <td>1967</td>\n",
       "      <td>7.200000</td>\n",
       "      <td>crime</td>\n",
       "    </tr>\n",
       "    <tr>\n",
       "      <th>8</th>\n",
       "      <td>1968</td>\n",
       "      <td>7.400000</td>\n",
       "      <td>mystery</td>\n",
       "    </tr>\n",
       "    <tr>\n",
       "      <th>9</th>\n",
       "      <td>1969</td>\n",
       "      <td>7.000000</td>\n",
       "      <td>history</td>\n",
       "    </tr>\n",
       "    <tr>\n",
       "      <th>10</th>\n",
       "      <td>1970</td>\n",
       "      <td>6.900000</td>\n",
       "      <td>documentary</td>\n",
       "    </tr>\n",
       "    <tr>\n",
       "      <th>11</th>\n",
       "      <td>1971</td>\n",
       "      <td>7.200000</td>\n",
       "      <td>war</td>\n",
       "    </tr>\n",
       "    <tr>\n",
       "      <th>12</th>\n",
       "      <td>1972</td>\n",
       "      <td>7.600000</td>\n",
       "      <td>family</td>\n",
       "    </tr>\n",
       "    <tr>\n",
       "      <th>13</th>\n",
       "      <td>1973</td>\n",
       "      <td>7.125000</td>\n",
       "      <td>comedy</td>\n",
       "    </tr>\n",
       "    <tr>\n",
       "      <th>14</th>\n",
       "      <td>1974</td>\n",
       "      <td>7.500000</td>\n",
       "      <td>music</td>\n",
       "    </tr>\n",
       "    <tr>\n",
       "      <th>15</th>\n",
       "      <td>1975</td>\n",
       "      <td>7.200000</td>\n",
       "      <td>romance</td>\n",
       "    </tr>\n",
       "    <tr>\n",
       "      <th>16</th>\n",
       "      <td>1976</td>\n",
       "      <td>7.000000</td>\n",
       "      <td>documentary</td>\n",
       "    </tr>\n",
       "    <tr>\n",
       "      <th>17</th>\n",
       "      <td>1977</td>\n",
       "      <td>6.833333</td>\n",
       "      <td>romance</td>\n",
       "    </tr>\n",
       "    <tr>\n",
       "      <th>18</th>\n",
       "      <td>1978</td>\n",
       "      <td>7.033333</td>\n",
       "      <td>music</td>\n",
       "    </tr>\n",
       "    <tr>\n",
       "      <th>19</th>\n",
       "      <td>1979</td>\n",
       "      <td>6.825000</td>\n",
       "      <td>music</td>\n",
       "    </tr>\n",
       "    <tr>\n",
       "      <th>20</th>\n",
       "      <td>1980</td>\n",
       "      <td>7.100000</td>\n",
       "      <td>foreign</td>\n",
       "    </tr>\n",
       "    <tr>\n",
       "      <th>21</th>\n",
       "      <td>1981</td>\n",
       "      <td>7.000000</td>\n",
       "      <td>war</td>\n",
       "    </tr>\n",
       "    <tr>\n",
       "      <th>22</th>\n",
       "      <td>1982</td>\n",
       "      <td>7.225000</td>\n",
       "      <td>animation</td>\n",
       "    </tr>\n",
       "    <tr>\n",
       "      <th>23</th>\n",
       "      <td>1983</td>\n",
       "      <td>7.200000</td>\n",
       "      <td>war</td>\n",
       "    </tr>\n",
       "    <tr>\n",
       "      <th>24</th>\n",
       "      <td>1984</td>\n",
       "      <td>8.400000</td>\n",
       "      <td>documentary</td>\n",
       "    </tr>\n",
       "    <tr>\n",
       "      <th>25</th>\n",
       "      <td>1985</td>\n",
       "      <td>6.950000</td>\n",
       "      <td>western</td>\n",
       "    </tr>\n",
       "    <tr>\n",
       "      <th>26</th>\n",
       "      <td>1986</td>\n",
       "      <td>7.033333</td>\n",
       "      <td>war</td>\n",
       "    </tr>\n",
       "    <tr>\n",
       "      <th>27</th>\n",
       "      <td>1987</td>\n",
       "      <td>7.166667</td>\n",
       "      <td>history</td>\n",
       "    </tr>\n",
       "    <tr>\n",
       "      <th>28</th>\n",
       "      <td>1988</td>\n",
       "      <td>6.733333</td>\n",
       "      <td>animation</td>\n",
       "    </tr>\n",
       "    <tr>\n",
       "      <th>29</th>\n",
       "      <td>1989</td>\n",
       "      <td>8.200000</td>\n",
       "      <td>documentary</td>\n",
       "    </tr>\n",
       "    <tr>\n",
       "      <th>30</th>\n",
       "      <td>1990</td>\n",
       "      <td>6.600000</td>\n",
       "      <td>animation</td>\n",
       "    </tr>\n",
       "    <tr>\n",
       "      <th>31</th>\n",
       "      <td>1991</td>\n",
       "      <td>7.800000</td>\n",
       "      <td>documentary</td>\n",
       "    </tr>\n",
       "    <tr>\n",
       "      <th>32</th>\n",
       "      <td>1992</td>\n",
       "      <td>6.850000</td>\n",
       "      <td>western</td>\n",
       "    </tr>\n",
       "    <tr>\n",
       "      <th>33</th>\n",
       "      <td>1993</td>\n",
       "      <td>6.966667</td>\n",
       "      <td>music</td>\n",
       "    </tr>\n",
       "    <tr>\n",
       "      <th>34</th>\n",
       "      <td>1994</td>\n",
       "      <td>7.200000</td>\n",
       "      <td>documentary</td>\n",
       "    </tr>\n",
       "    <tr>\n",
       "      <th>35</th>\n",
       "      <td>1995</td>\n",
       "      <td>7.000000</td>\n",
       "      <td>animation</td>\n",
       "    </tr>\n",
       "    <tr>\n",
       "      <th>36</th>\n",
       "      <td>1996</td>\n",
       "      <td>7.000000</td>\n",
       "      <td>documentary</td>\n",
       "    </tr>\n",
       "    <tr>\n",
       "      <th>37</th>\n",
       "      <td>1997</td>\n",
       "      <td>7.100000</td>\n",
       "      <td>foreign</td>\n",
       "    </tr>\n",
       "    <tr>\n",
       "      <th>38</th>\n",
       "      <td>1998</td>\n",
       "      <td>6.940000</td>\n",
       "      <td>history</td>\n",
       "    </tr>\n",
       "    <tr>\n",
       "      <th>39</th>\n",
       "      <td>1999</td>\n",
       "      <td>6.600000</td>\n",
       "      <td>war</td>\n",
       "    </tr>\n",
       "    <tr>\n",
       "      <th>40</th>\n",
       "      <td>2000</td>\n",
       "      <td>6.871429</td>\n",
       "      <td>music</td>\n",
       "    </tr>\n",
       "    <tr>\n",
       "      <th>41</th>\n",
       "      <td>2001</td>\n",
       "      <td>6.533333</td>\n",
       "      <td>war</td>\n",
       "    </tr>\n",
       "    <tr>\n",
       "      <th>42</th>\n",
       "      <td>2002</td>\n",
       "      <td>7.100000</td>\n",
       "      <td>western</td>\n",
       "    </tr>\n",
       "    <tr>\n",
       "      <th>43</th>\n",
       "      <td>2003</td>\n",
       "      <td>7.266667</td>\n",
       "      <td>documentary</td>\n",
       "    </tr>\n",
       "    <tr>\n",
       "      <th>44</th>\n",
       "      <td>2004</td>\n",
       "      <td>6.650000</td>\n",
       "      <td>tv movie</td>\n",
       "    </tr>\n",
       "    <tr>\n",
       "      <th>45</th>\n",
       "      <td>2005</td>\n",
       "      <td>7.200000</td>\n",
       "      <td>tv movie</td>\n",
       "    </tr>\n",
       "    <tr>\n",
       "      <th>46</th>\n",
       "      <td>2006</td>\n",
       "      <td>6.700000</td>\n",
       "      <td>documentary</td>\n",
       "    </tr>\n",
       "    <tr>\n",
       "      <th>47</th>\n",
       "      <td>2007</td>\n",
       "      <td>6.980000</td>\n",
       "      <td>documentary</td>\n",
       "    </tr>\n",
       "    <tr>\n",
       "      <th>48</th>\n",
       "      <td>2008</td>\n",
       "      <td>6.825000</td>\n",
       "      <td>war</td>\n",
       "    </tr>\n",
       "    <tr>\n",
       "      <th>49</th>\n",
       "      <td>2009</td>\n",
       "      <td>7.111111</td>\n",
       "      <td>documentary</td>\n",
       "    </tr>\n",
       "    <tr>\n",
       "      <th>50</th>\n",
       "      <td>2010</td>\n",
       "      <td>7.133333</td>\n",
       "      <td>war</td>\n",
       "    </tr>\n",
       "    <tr>\n",
       "      <th>51</th>\n",
       "      <td>2011</td>\n",
       "      <td>7.064706</td>\n",
       "      <td>documentary</td>\n",
       "    </tr>\n",
       "    <tr>\n",
       "      <th>52</th>\n",
       "      <td>2012</td>\n",
       "      <td>6.970000</td>\n",
       "      <td>documentary</td>\n",
       "    </tr>\n",
       "    <tr>\n",
       "      <th>53</th>\n",
       "      <td>2013</td>\n",
       "      <td>7.160000</td>\n",
       "      <td>documentary</td>\n",
       "    </tr>\n",
       "    <tr>\n",
       "      <th>54</th>\n",
       "      <td>2014</td>\n",
       "      <td>6.847059</td>\n",
       "      <td>documentary</td>\n",
       "    </tr>\n",
       "    <tr>\n",
       "      <th>55</th>\n",
       "      <td>2015</td>\n",
       "      <td>6.875000</td>\n",
       "      <td>western</td>\n",
       "    </tr>\n",
       "  </tbody>\n",
       "</table>\n",
       "</div>"
      ],
      "text/plain": [
       "    year  avg_rating        genre\n",
       "0   1960    7.033333       family\n",
       "1   1961    7.050000       family\n",
       "2   1962    7.200000          war\n",
       "3   1963    7.500000          war\n",
       "4   1964    7.033333          war\n",
       "5   1965    7.600000    animation\n",
       "6   1966    7.150000    animation\n",
       "7   1967    7.200000        crime\n",
       "8   1968    7.400000      mystery\n",
       "9   1969    7.000000      history\n",
       "10  1970    6.900000  documentary\n",
       "11  1971    7.200000          war\n",
       "12  1972    7.600000       family\n",
       "13  1973    7.125000       comedy\n",
       "14  1974    7.500000        music\n",
       "15  1975    7.200000      romance\n",
       "16  1976    7.000000  documentary\n",
       "17  1977    6.833333      romance\n",
       "18  1978    7.033333        music\n",
       "19  1979    6.825000        music\n",
       "20  1980    7.100000      foreign\n",
       "21  1981    7.000000          war\n",
       "22  1982    7.225000    animation\n",
       "23  1983    7.200000          war\n",
       "24  1984    8.400000  documentary\n",
       "25  1985    6.950000      western\n",
       "26  1986    7.033333          war\n",
       "27  1987    7.166667      history\n",
       "28  1988    6.733333    animation\n",
       "29  1989    8.200000  documentary\n",
       "30  1990    6.600000    animation\n",
       "31  1991    7.800000  documentary\n",
       "32  1992    6.850000      western\n",
       "33  1993    6.966667        music\n",
       "34  1994    7.200000  documentary\n",
       "35  1995    7.000000    animation\n",
       "36  1996    7.000000  documentary\n",
       "37  1997    7.100000      foreign\n",
       "38  1998    6.940000      history\n",
       "39  1999    6.600000          war\n",
       "40  2000    6.871429        music\n",
       "41  2001    6.533333          war\n",
       "42  2002    7.100000      western\n",
       "43  2003    7.266667  documentary\n",
       "44  2004    6.650000     tv movie\n",
       "45  2005    7.200000     tv movie\n",
       "46  2006    6.700000  documentary\n",
       "47  2007    6.980000  documentary\n",
       "48  2008    6.825000          war\n",
       "49  2009    7.111111  documentary\n",
       "50  2010    7.133333          war\n",
       "51  2011    7.064706  documentary\n",
       "52  2012    6.970000  documentary\n",
       "53  2013    7.160000  documentary\n",
       "54  2014    6.847059  documentary\n",
       "55  2015    6.875000      western"
      ]
     },
     "execution_count": 139,
     "metadata": {},
     "output_type": "execute_result"
    }
   ],
   "source": [
    "df_year_max_genre"
   ]
  },
  {
   "cell_type": "markdown",
   "metadata": {},
   "source": [
    "### Research Question 7 - What is the yearly proportion of use of word 'The' in the beginning of the movie name? Is the usage trend increasing? or decreasing over the years?"
   ]
  },
  {
   "cell_type": "markdown",
   "metadata": {},
   "source": [
    "#### Create a new dataframe df_the_prop with columns (year, movie_count, the_count, the_%)"
   ]
  },
  {
   "cell_type": "code",
   "execution_count": 140,
   "metadata": {},
   "outputs": [
    {
     "data": {
      "text/html": [
       "<div>\n",
       "<style scoped>\n",
       "    .dataframe tbody tr th:only-of-type {\n",
       "        vertical-align: middle;\n",
       "    }\n",
       "\n",
       "    .dataframe tbody tr th {\n",
       "        vertical-align: top;\n",
       "    }\n",
       "\n",
       "    .dataframe thead th {\n",
       "        text-align: right;\n",
       "    }\n",
       "</style>\n",
       "<table border=\"1\" class=\"dataframe\">\n",
       "  <thead>\n",
       "    <tr style=\"text-align: right;\">\n",
       "      <th></th>\n",
       "    </tr>\n",
       "  </thead>\n",
       "  <tbody>\n",
       "  </tbody>\n",
       "</table>\n",
       "</div>"
      ],
      "text/plain": [
       "Empty DataFrame\n",
       "Columns: []\n",
       "Index: []"
      ]
     },
     "execution_count": 140,
     "metadata": {},
     "output_type": "execute_result"
    }
   ],
   "source": [
    "#Create a dataframe df_the_prop\n",
    "df_the_prop=pd.DataFrame()\n",
    "df_the_prop"
   ]
  },
  {
   "cell_type": "code",
   "execution_count": 141,
   "metadata": {},
   "outputs": [
    {
     "name": "stdout",
     "output_type": "stream",
     "text": [
      "<class 'pandas.core.frame.DataFrame'>\n",
      "Int64Index: 7030 entries, 0 to 10865\n",
      "Data columns (total 19 columns):\n",
      " #   Column                Non-Null Count  Dtype  \n",
      "---  ------                --------------  -----  \n",
      " 0   id                    7030 non-null   int64  \n",
      " 1   imdb_id               7030 non-null   object \n",
      " 2   popularity            7030 non-null   float64\n",
      " 3   vote_count            7030 non-null   int64  \n",
      " 4   vote_average          7030 non-null   float64\n",
      " 5   original_title        7030 non-null   object \n",
      " 6   tagline               7030 non-null   object \n",
      " 7   cast                  7030 non-null   object \n",
      " 8   director              7030 non-null   object \n",
      " 9   keywords              7030 non-null   object \n",
      " 10  genres                7030 non-null   object \n",
      " 11  runtime               7030 non-null   int64  \n",
      " 12  production_companies  7030 non-null   object \n",
      " 13  release_date          7030 non-null   object \n",
      " 14  release_year          7030 non-null   int64  \n",
      " 15  budget                7030 non-null   int64  \n",
      " 16  revenue               7030 non-null   int64  \n",
      " 17  budget_adj            7030 non-null   float64\n",
      " 18  revenue_adj           7030 non-null   float64\n",
      "dtypes: float64(4), int64(6), object(9)\n",
      "memory usage: 1.1+ MB\n"
     ]
    }
   ],
   "source": [
    "df_mov.info()"
   ]
  },
  {
   "cell_type": "code",
   "execution_count": 142,
   "metadata": {},
   "outputs": [],
   "source": [
    "#Add column of year\n",
    "df_the_prop['release_year']=df_mov['release_year'].unique()"
   ]
  },
  {
   "cell_type": "code",
   "execution_count": 143,
   "metadata": {},
   "outputs": [],
   "source": [
    "def calc_movie_count(row):\n",
    "    mov_count=len(df_mov[df_mov['release_year']==row['release_year']])\n",
    "    #print('value of mov_count is ',mov_count)\n",
    "    return mov_count"
   ]
  },
  {
   "cell_type": "code",
   "execution_count": 144,
   "metadata": {},
   "outputs": [],
   "source": [
    "#Add column of original_title\n",
    "df_the_prop['original_title']=df_the_prop.apply(calc_movie_count, axis=1)"
   ]
  },
  {
   "cell_type": "code",
   "execution_count": 145,
   "metadata": {},
   "outputs": [],
   "source": [
    "def calc_the_movie_count(row):\n",
    "    the_mov_count=sum(df_mov[df_mov['release_year']==row['release_year']]['original_title'].str.lower().str.match('the*'))\n",
    "    #print('value of the_mov_count is ',the_mov_count)\n",
    "    return the_mov_count"
   ]
  },
  {
   "cell_type": "code",
   "execution_count": 146,
   "metadata": {},
   "outputs": [],
   "source": [
    "#Calculate 'the*' count column\n",
    "df_the_prop['the_movie_count']=df_the_prop.apply(calc_the_movie_count, axis=1)"
   ]
  },
  {
   "cell_type": "code",
   "execution_count": 147,
   "metadata": {},
   "outputs": [],
   "source": [
    "#Calculate the_% column\n",
    "df_the_prop['the_%']=(df_the_prop['the_movie_count']*100) / df_the_prop['original_title']"
   ]
  },
  {
   "cell_type": "markdown",
   "metadata": {},
   "source": [
    "#### df_the_prop represents percentage of the usaeg of word the in beginning on yearly basis."
   ]
  },
  {
   "cell_type": "code",
   "execution_count": 148,
   "metadata": {},
   "outputs": [
    {
     "data": {
      "text/html": [
       "<div>\n",
       "<style scoped>\n",
       "    .dataframe tbody tr th:only-of-type {\n",
       "        vertical-align: middle;\n",
       "    }\n",
       "\n",
       "    .dataframe tbody tr th {\n",
       "        vertical-align: top;\n",
       "    }\n",
       "\n",
       "    .dataframe thead th {\n",
       "        text-align: right;\n",
       "    }\n",
       "</style>\n",
       "<table border=\"1\" class=\"dataframe\">\n",
       "  <thead>\n",
       "    <tr style=\"text-align: right;\">\n",
       "      <th></th>\n",
       "      <th>release_year</th>\n",
       "      <th>original_title</th>\n",
       "      <th>the_movie_count</th>\n",
       "      <th>the_%</th>\n",
       "    </tr>\n",
       "  </thead>\n",
       "  <tbody>\n",
       "    <tr>\n",
       "      <th>44</th>\n",
       "      <td>1960</td>\n",
       "      <td>28</td>\n",
       "      <td>11</td>\n",
       "      <td>39.285714</td>\n",
       "    </tr>\n",
       "    <tr>\n",
       "      <th>43</th>\n",
       "      <td>1961</td>\n",
       "      <td>26</td>\n",
       "      <td>10</td>\n",
       "      <td>38.461538</td>\n",
       "    </tr>\n",
       "    <tr>\n",
       "      <th>39</th>\n",
       "      <td>1962</td>\n",
       "      <td>28</td>\n",
       "      <td>7</td>\n",
       "      <td>25.000000</td>\n",
       "    </tr>\n",
       "    <tr>\n",
       "      <th>48</th>\n",
       "      <td>1963</td>\n",
       "      <td>29</td>\n",
       "      <td>13</td>\n",
       "      <td>44.827586</td>\n",
       "    </tr>\n",
       "    <tr>\n",
       "      <th>40</th>\n",
       "      <td>1964</td>\n",
       "      <td>39</td>\n",
       "      <td>10</td>\n",
       "      <td>25.641026</td>\n",
       "    </tr>\n",
       "    <tr>\n",
       "      <th>52</th>\n",
       "      <td>1965</td>\n",
       "      <td>28</td>\n",
       "      <td>12</td>\n",
       "      <td>42.857143</td>\n",
       "    </tr>\n",
       "    <tr>\n",
       "      <th>55</th>\n",
       "      <td>1966</td>\n",
       "      <td>39</td>\n",
       "      <td>10</td>\n",
       "      <td>25.641026</td>\n",
       "    </tr>\n",
       "    <tr>\n",
       "      <th>47</th>\n",
       "      <td>1967</td>\n",
       "      <td>30</td>\n",
       "      <td>8</td>\n",
       "      <td>26.666667</td>\n",
       "    </tr>\n",
       "    <tr>\n",
       "      <th>36</th>\n",
       "      <td>1968</td>\n",
       "      <td>33</td>\n",
       "      <td>9</td>\n",
       "      <td>27.272727</td>\n",
       "    </tr>\n",
       "    <tr>\n",
       "      <th>53</th>\n",
       "      <td>1969</td>\n",
       "      <td>19</td>\n",
       "      <td>3</td>\n",
       "      <td>15.789474</td>\n",
       "    </tr>\n",
       "    <tr>\n",
       "      <th>51</th>\n",
       "      <td>1970</td>\n",
       "      <td>32</td>\n",
       "      <td>6</td>\n",
       "      <td>18.750000</td>\n",
       "    </tr>\n",
       "    <tr>\n",
       "      <th>41</th>\n",
       "      <td>1971</td>\n",
       "      <td>46</td>\n",
       "      <td>11</td>\n",
       "      <td>23.913043</td>\n",
       "    </tr>\n",
       "    <tr>\n",
       "      <th>19</th>\n",
       "      <td>1972</td>\n",
       "      <td>33</td>\n",
       "      <td>8</td>\n",
       "      <td>24.242424</td>\n",
       "    </tr>\n",
       "    <tr>\n",
       "      <th>50</th>\n",
       "      <td>1973</td>\n",
       "      <td>50</td>\n",
       "      <td>18</td>\n",
       "      <td>36.000000</td>\n",
       "    </tr>\n",
       "    <tr>\n",
       "      <th>37</th>\n",
       "      <td>1974</td>\n",
       "      <td>37</td>\n",
       "      <td>12</td>\n",
       "      <td>32.432432</td>\n",
       "    </tr>\n",
       "    <tr>\n",
       "      <th>38</th>\n",
       "      <td>1975</td>\n",
       "      <td>33</td>\n",
       "      <td>10</td>\n",
       "      <td>30.303030</td>\n",
       "    </tr>\n",
       "    <tr>\n",
       "      <th>45</th>\n",
       "      <td>1976</td>\n",
       "      <td>38</td>\n",
       "      <td>14</td>\n",
       "      <td>36.842105</td>\n",
       "    </tr>\n",
       "    <tr>\n",
       "      <th>2</th>\n",
       "      <td>1977</td>\n",
       "      <td>47</td>\n",
       "      <td>14</td>\n",
       "      <td>29.787234</td>\n",
       "    </tr>\n",
       "    <tr>\n",
       "      <th>54</th>\n",
       "      <td>1978</td>\n",
       "      <td>52</td>\n",
       "      <td>13</td>\n",
       "      <td>25.000000</td>\n",
       "    </tr>\n",
       "    <tr>\n",
       "      <th>22</th>\n",
       "      <td>1979</td>\n",
       "      <td>51</td>\n",
       "      <td>14</td>\n",
       "      <td>27.450980</td>\n",
       "    </tr>\n",
       "    <tr>\n",
       "      <th>20</th>\n",
       "      <td>1980</td>\n",
       "      <td>64</td>\n",
       "      <td>19</td>\n",
       "      <td>29.687500</td>\n",
       "    </tr>\n",
       "    <tr>\n",
       "      <th>27</th>\n",
       "      <td>1981</td>\n",
       "      <td>66</td>\n",
       "      <td>10</td>\n",
       "      <td>15.151515</td>\n",
       "    </tr>\n",
       "    <tr>\n",
       "      <th>30</th>\n",
       "      <td>1982</td>\n",
       "      <td>67</td>\n",
       "      <td>17</td>\n",
       "      <td>25.373134</td>\n",
       "    </tr>\n",
       "    <tr>\n",
       "      <th>24</th>\n",
       "      <td>1983</td>\n",
       "      <td>67</td>\n",
       "      <td>12</td>\n",
       "      <td>17.910448</td>\n",
       "    </tr>\n",
       "    <tr>\n",
       "      <th>23</th>\n",
       "      <td>1984</td>\n",
       "      <td>86</td>\n",
       "      <td>19</td>\n",
       "      <td>22.093023</td>\n",
       "    </tr>\n",
       "    <tr>\n",
       "      <th>15</th>\n",
       "      <td>1985</td>\n",
       "      <td>84</td>\n",
       "      <td>15</td>\n",
       "      <td>17.857143</td>\n",
       "    </tr>\n",
       "    <tr>\n",
       "      <th>49</th>\n",
       "      <td>1986</td>\n",
       "      <td>95</td>\n",
       "      <td>16</td>\n",
       "      <td>16.842105</td>\n",
       "    </tr>\n",
       "    <tr>\n",
       "      <th>35</th>\n",
       "      <td>1987</td>\n",
       "      <td>91</td>\n",
       "      <td>21</td>\n",
       "      <td>23.076923</td>\n",
       "    </tr>\n",
       "    <tr>\n",
       "      <th>34</th>\n",
       "      <td>1988</td>\n",
       "      <td>106</td>\n",
       "      <td>13</td>\n",
       "      <td>12.264151</td>\n",
       "    </tr>\n",
       "    <tr>\n",
       "      <th>32</th>\n",
       "      <td>1989</td>\n",
       "      <td>98</td>\n",
       "      <td>17</td>\n",
       "      <td>17.346939</td>\n",
       "    </tr>\n",
       "    <tr>\n",
       "      <th>42</th>\n",
       "      <td>1990</td>\n",
       "      <td>102</td>\n",
       "      <td>12</td>\n",
       "      <td>11.764706</td>\n",
       "    </tr>\n",
       "    <tr>\n",
       "      <th>33</th>\n",
       "      <td>1991</td>\n",
       "      <td>91</td>\n",
       "      <td>14</td>\n",
       "      <td>15.384615</td>\n",
       "    </tr>\n",
       "    <tr>\n",
       "      <th>26</th>\n",
       "      <td>1992</td>\n",
       "      <td>109</td>\n",
       "      <td>13</td>\n",
       "      <td>11.926606</td>\n",
       "    </tr>\n",
       "    <tr>\n",
       "      <th>46</th>\n",
       "      <td>1993</td>\n",
       "      <td>139</td>\n",
       "      <td>23</td>\n",
       "      <td>16.546763</td>\n",
       "    </tr>\n",
       "    <tr>\n",
       "      <th>10</th>\n",
       "      <td>1994</td>\n",
       "      <td>131</td>\n",
       "      <td>30</td>\n",
       "      <td>22.900763</td>\n",
       "    </tr>\n",
       "    <tr>\n",
       "      <th>25</th>\n",
       "      <td>1995</td>\n",
       "      <td>135</td>\n",
       "      <td>19</td>\n",
       "      <td>14.074074</td>\n",
       "    </tr>\n",
       "    <tr>\n",
       "      <th>28</th>\n",
       "      <td>1996</td>\n",
       "      <td>160</td>\n",
       "      <td>32</td>\n",
       "      <td>20.000000</td>\n",
       "    </tr>\n",
       "    <tr>\n",
       "      <th>13</th>\n",
       "      <td>1997</td>\n",
       "      <td>147</td>\n",
       "      <td>26</td>\n",
       "      <td>17.687075</td>\n",
       "    </tr>\n",
       "    <tr>\n",
       "      <th>31</th>\n",
       "      <td>1998</td>\n",
       "      <td>155</td>\n",
       "      <td>27</td>\n",
       "      <td>17.419355</td>\n",
       "    </tr>\n",
       "    <tr>\n",
       "      <th>5</th>\n",
       "      <td>1999</td>\n",
       "      <td>159</td>\n",
       "      <td>35</td>\n",
       "      <td>22.012579</td>\n",
       "    </tr>\n",
       "    <tr>\n",
       "      <th>29</th>\n",
       "      <td>2000</td>\n",
       "      <td>159</td>\n",
       "      <td>31</td>\n",
       "      <td>19.496855</td>\n",
       "    </tr>\n",
       "    <tr>\n",
       "      <th>6</th>\n",
       "      <td>2001</td>\n",
       "      <td>167</td>\n",
       "      <td>27</td>\n",
       "      <td>16.167665</td>\n",
       "    </tr>\n",
       "    <tr>\n",
       "      <th>9</th>\n",
       "      <td>2002</td>\n",
       "      <td>192</td>\n",
       "      <td>31</td>\n",
       "      <td>16.145833</td>\n",
       "    </tr>\n",
       "    <tr>\n",
       "      <th>12</th>\n",
       "      <td>2003</td>\n",
       "      <td>173</td>\n",
       "      <td>35</td>\n",
       "      <td>20.231214</td>\n",
       "    </tr>\n",
       "    <tr>\n",
       "      <th>18</th>\n",
       "      <td>2004</td>\n",
       "      <td>197</td>\n",
       "      <td>39</td>\n",
       "      <td>19.796954</td>\n",
       "    </tr>\n",
       "    <tr>\n",
       "      <th>16</th>\n",
       "      <td>2005</td>\n",
       "      <td>232</td>\n",
       "      <td>50</td>\n",
       "      <td>21.551724</td>\n",
       "    </tr>\n",
       "    <tr>\n",
       "      <th>17</th>\n",
       "      <td>2006</td>\n",
       "      <td>260</td>\n",
       "      <td>58</td>\n",
       "      <td>22.307692</td>\n",
       "    </tr>\n",
       "    <tr>\n",
       "      <th>21</th>\n",
       "      <td>2007</td>\n",
       "      <td>264</td>\n",
       "      <td>52</td>\n",
       "      <td>19.696970</td>\n",
       "    </tr>\n",
       "    <tr>\n",
       "      <th>7</th>\n",
       "      <td>2008</td>\n",
       "      <td>269</td>\n",
       "      <td>49</td>\n",
       "      <td>18.215613</td>\n",
       "    </tr>\n",
       "    <tr>\n",
       "      <th>3</th>\n",
       "      <td>2009</td>\n",
       "      <td>305</td>\n",
       "      <td>62</td>\n",
       "      <td>20.327869</td>\n",
       "    </tr>\n",
       "    <tr>\n",
       "      <th>4</th>\n",
       "      <td>2010</td>\n",
       "      <td>279</td>\n",
       "      <td>53</td>\n",
       "      <td>18.996416</td>\n",
       "    </tr>\n",
       "    <tr>\n",
       "      <th>8</th>\n",
       "      <td>2011</td>\n",
       "      <td>306</td>\n",
       "      <td>61</td>\n",
       "      <td>19.934641</td>\n",
       "    </tr>\n",
       "    <tr>\n",
       "      <th>11</th>\n",
       "      <td>2012</td>\n",
       "      <td>286</td>\n",
       "      <td>61</td>\n",
       "      <td>21.328671</td>\n",
       "    </tr>\n",
       "    <tr>\n",
       "      <th>14</th>\n",
       "      <td>2013</td>\n",
       "      <td>346</td>\n",
       "      <td>71</td>\n",
       "      <td>20.520231</td>\n",
       "    </tr>\n",
       "    <tr>\n",
       "      <th>1</th>\n",
       "      <td>2014</td>\n",
       "      <td>384</td>\n",
       "      <td>77</td>\n",
       "      <td>20.052083</td>\n",
       "    </tr>\n",
       "    <tr>\n",
       "      <th>0</th>\n",
       "      <td>2015</td>\n",
       "      <td>341</td>\n",
       "      <td>62</td>\n",
       "      <td>18.181818</td>\n",
       "    </tr>\n",
       "  </tbody>\n",
       "</table>\n",
       "</div>"
      ],
      "text/plain": [
       "    release_year  original_title  the_movie_count      the_%\n",
       "44          1960              28               11  39.285714\n",
       "43          1961              26               10  38.461538\n",
       "39          1962              28                7  25.000000\n",
       "48          1963              29               13  44.827586\n",
       "40          1964              39               10  25.641026\n",
       "52          1965              28               12  42.857143\n",
       "55          1966              39               10  25.641026\n",
       "47          1967              30                8  26.666667\n",
       "36          1968              33                9  27.272727\n",
       "53          1969              19                3  15.789474\n",
       "51          1970              32                6  18.750000\n",
       "41          1971              46               11  23.913043\n",
       "19          1972              33                8  24.242424\n",
       "50          1973              50               18  36.000000\n",
       "37          1974              37               12  32.432432\n",
       "38          1975              33               10  30.303030\n",
       "45          1976              38               14  36.842105\n",
       "2           1977              47               14  29.787234\n",
       "54          1978              52               13  25.000000\n",
       "22          1979              51               14  27.450980\n",
       "20          1980              64               19  29.687500\n",
       "27          1981              66               10  15.151515\n",
       "30          1982              67               17  25.373134\n",
       "24          1983              67               12  17.910448\n",
       "23          1984              86               19  22.093023\n",
       "15          1985              84               15  17.857143\n",
       "49          1986              95               16  16.842105\n",
       "35          1987              91               21  23.076923\n",
       "34          1988             106               13  12.264151\n",
       "32          1989              98               17  17.346939\n",
       "42          1990             102               12  11.764706\n",
       "33          1991              91               14  15.384615\n",
       "26          1992             109               13  11.926606\n",
       "46          1993             139               23  16.546763\n",
       "10          1994             131               30  22.900763\n",
       "25          1995             135               19  14.074074\n",
       "28          1996             160               32  20.000000\n",
       "13          1997             147               26  17.687075\n",
       "31          1998             155               27  17.419355\n",
       "5           1999             159               35  22.012579\n",
       "29          2000             159               31  19.496855\n",
       "6           2001             167               27  16.167665\n",
       "9           2002             192               31  16.145833\n",
       "12          2003             173               35  20.231214\n",
       "18          2004             197               39  19.796954\n",
       "16          2005             232               50  21.551724\n",
       "17          2006             260               58  22.307692\n",
       "21          2007             264               52  19.696970\n",
       "7           2008             269               49  18.215613\n",
       "3           2009             305               62  20.327869\n",
       "4           2010             279               53  18.996416\n",
       "8           2011             306               61  19.934641\n",
       "11          2012             286               61  21.328671\n",
       "14          2013             346               71  20.520231\n",
       "1           2014             384               77  20.052083\n",
       "0           2015             341               62  18.181818"
      ]
     },
     "execution_count": 148,
     "metadata": {},
     "output_type": "execute_result"
    }
   ],
   "source": [
    "df_the_prop.sort_values('release_year')"
   ]
  },
  {
   "cell_type": "code",
   "execution_count": 149,
   "metadata": {},
   "outputs": [
    {
     "data": {
      "text/plain": [
       "Text(0, 0.5, 'Percentage')"
      ]
     },
     "execution_count": 149,
     "metadata": {},
     "output_type": "execute_result"
    },
    {
     "data": {
      "image/png": "[encoded data removed]",
      "text/plain": [
       "<Figure size 504x504 with 1 Axes>"
      ]
     },
     "metadata": {
      "needs_background": "light"
     },
     "output_type": "display_data"
    }
   ],
   "source": [
    "#Plot the graph, x_axis= df_the_prop['release_year'], y_axis=df_the_prop['the_%']\n",
    "year_per=df_the_prop.sort_values('release_year').plot(figsize=(7,7),  x='release_year', y='the_%', title='% of use per year of word \"the\" in the beginning of movie title', grid=True)\n",
    "year_per.set_xlabel(\"Year\")\n",
    "year_per.set_ylabel(\"Percentage\")"
   ]
  },
  {
   "cell_type": "markdown",
   "metadata": {},
   "source": [
    "### Research Question 8 - Does small length tagline imply smaller title? What is the correlation between number of characters in title and tagline?"
   ]
  },
  {
   "cell_type": "code",
   "execution_count": 150,
   "metadata": {},
   "outputs": [
    {
     "name": "stdout",
     "output_type": "stream",
     "text": [
      "<class 'pandas.core.frame.DataFrame'>\n",
      "Int64Index: 7030 entries, 0 to 10865\n",
      "Data columns (total 19 columns):\n",
      " #   Column                Non-Null Count  Dtype  \n",
      "---  ------                --------------  -----  \n",
      " 0   id                    7030 non-null   int64  \n",
      " 1   imdb_id               7030 non-null   object \n",
      " 2   popularity            7030 non-null   float64\n",
      " 3   vote_count            7030 non-null   int64  \n",
      " 4   vote_average          7030 non-null   float64\n",
      " 5   original_title        7030 non-null   object \n",
      " 6   tagline               7030 non-null   object \n",
      " 7   cast                  7030 non-null   object \n",
      " 8   director              7030 non-null   object \n",
      " 9   keywords              7030 non-null   object \n",
      " 10  genres                7030 non-null   object \n",
      " 11  runtime               7030 non-null   int64  \n",
      " 12  production_companies  7030 non-null   object \n",
      " 13  release_date          7030 non-null   object \n",
      " 14  release_year          7030 non-null   int64  \n",
      " 15  budget                7030 non-null   int64  \n",
      " 16  revenue               7030 non-null   int64  \n",
      " 17  budget_adj            7030 non-null   float64\n",
      " 18  revenue_adj           7030 non-null   float64\n",
      "dtypes: float64(4), int64(6), object(9)\n",
      "memory usage: 1.1+ MB\n"
     ]
    }
   ],
   "source": [
    "#Copy the dataframe to add needed columns for correlation calculation\n",
    "df_tag_title_corr=df_mov.copy()\n",
    "df_tag_title_corr.info()"
   ]
  },
  {
   "cell_type": "code",
   "execution_count": 151,
   "metadata": {},
   "outputs": [],
   "source": [
    "#Delete all columns except title, tagline\n",
    "df_tag_title_corr=df_tag_title_corr.loc[:,['original_title','tagline']]\n"
   ]
  },
  {
   "cell_type": "code",
   "execution_count": 152,
   "metadata": {},
   "outputs": [
    {
     "name": "stdout",
     "output_type": "stream",
     "text": [
      "<class 'pandas.core.frame.DataFrame'>\n",
      "Int64Index: 7030 entries, 0 to 10865\n",
      "Data columns (total 2 columns):\n",
      " #   Column          Non-Null Count  Dtype \n",
      "---  ------          --------------  ----- \n",
      " 0   original_title  7030 non-null   object\n",
      " 1   tagline         7030 non-null   object\n",
      "dtypes: object(2)\n",
      "memory usage: 164.8+ KB\n"
     ]
    }
   ],
   "source": [
    "df_tag_title_corr.info()"
   ]
  },
  {
   "cell_type": "code",
   "execution_count": 153,
   "metadata": {},
   "outputs": [],
   "source": [
    "df_tag_title_corr.insert(1,'len_original_title',None)"
   ]
  },
  {
   "cell_type": "code",
   "execution_count": 154,
   "metadata": {},
   "outputs": [],
   "source": [
    "df_tag_title_corr.insert(3,'len_tagline',None)"
   ]
  },
  {
   "cell_type": "code",
   "execution_count": 155,
   "metadata": {},
   "outputs": [],
   "source": [
    "#Calculate len_original_title column\n",
    "df_tag_title_corr['len_original_title']=(df_tag_title_corr['original_title'].str.len())"
   ]
  },
  {
   "cell_type": "code",
   "execution_count": 156,
   "metadata": {},
   "outputs": [],
   "source": [
    "#Calaulate len_tagline column\n",
    "df_tag_title_corr['len_tagline']=(df_tag_title_corr['tagline'].str.len())"
   ]
  },
  {
   "cell_type": "code",
   "execution_count": 157,
   "metadata": {},
   "outputs": [
    {
     "data": {
      "text/html": [
       "<div>\n",
       "<style scoped>\n",
       "    .dataframe tbody tr th:only-of-type {\n",
       "        vertical-align: middle;\n",
       "    }\n",
       "\n",
       "    .dataframe tbody tr th {\n",
       "        vertical-align: top;\n",
       "    }\n",
       "\n",
       "    .dataframe thead th {\n",
       "        text-align: right;\n",
       "    }\n",
       "</style>\n",
       "<table border=\"1\" class=\"dataframe\">\n",
       "  <thead>\n",
       "    <tr style=\"text-align: right;\">\n",
       "      <th></th>\n",
       "      <th>original_title</th>\n",
       "      <th>len_original_title</th>\n",
       "      <th>tagline</th>\n",
       "      <th>len_tagline</th>\n",
       "    </tr>\n",
       "  </thead>\n",
       "  <tbody>\n",
       "    <tr>\n",
       "      <th>0</th>\n",
       "      <td>Jurassic World</td>\n",
       "      <td>14</td>\n",
       "      <td>The park is open.</td>\n",
       "      <td>17</td>\n",
       "    </tr>\n",
       "    <tr>\n",
       "      <th>1</th>\n",
       "      <td>Mad Max: Fury Road</td>\n",
       "      <td>18</td>\n",
       "      <td>What a Lovely Day.</td>\n",
       "      <td>18</td>\n",
       "    </tr>\n",
       "    <tr>\n",
       "      <th>2</th>\n",
       "      <td>Insurgent</td>\n",
       "      <td>9</td>\n",
       "      <td>One Choice Can Destroy You</td>\n",
       "      <td>26</td>\n",
       "    </tr>\n",
       "    <tr>\n",
       "      <th>3</th>\n",
       "      <td>Star Wars: The Force Awakens</td>\n",
       "      <td>28</td>\n",
       "      <td>Every generation has a story.</td>\n",
       "      <td>29</td>\n",
       "    </tr>\n",
       "    <tr>\n",
       "      <th>4</th>\n",
       "      <td>Furious 7</td>\n",
       "      <td>9</td>\n",
       "      <td>Vengeance Hits Home</td>\n",
       "      <td>19</td>\n",
       "    </tr>\n",
       "    <tr>\n",
       "      <th>...</th>\n",
       "      <td>...</td>\n",
       "      <td>...</td>\n",
       "      <td>...</td>\n",
       "      <td>...</td>\n",
       "    </tr>\n",
       "    <tr>\n",
       "      <th>10858</th>\n",
       "      <td>The Russians Are Coming, The Russians Are Coming</td>\n",
       "      <td>48</td>\n",
       "      <td>IT'S A PLOT! ...to make the world die laughing!!</td>\n",
       "      <td>48</td>\n",
       "    </tr>\n",
       "    <tr>\n",
       "      <th>10860</th>\n",
       "      <td>Carry On Screaming!</td>\n",
       "      <td>19</td>\n",
       "      <td>Carry On Screaming with the Hilarious CARRY ON...</td>\n",
       "      <td>53</td>\n",
       "    </tr>\n",
       "    <tr>\n",
       "      <th>10862</th>\n",
       "      <td>Grand Prix</td>\n",
       "      <td>10</td>\n",
       "      <td>Cinerama sweeps YOU into a drama of speed and ...</td>\n",
       "      <td>56</td>\n",
       "    </tr>\n",
       "    <tr>\n",
       "      <th>10864</th>\n",
       "      <td>What's Up, Tiger Lily?</td>\n",
       "      <td>22</td>\n",
       "      <td>WOODY ALLEN STRIKES BACK!</td>\n",
       "      <td>25</td>\n",
       "    </tr>\n",
       "    <tr>\n",
       "      <th>10865</th>\n",
       "      <td>Manos: The Hands of Fate</td>\n",
       "      <td>24</td>\n",
       "      <td>It's Shocking! It's Beyond Your Imagination!</td>\n",
       "      <td>44</td>\n",
       "    </tr>\n",
       "  </tbody>\n",
       "</table>\n",
       "<p>7030 rows × 4 columns</p>\n",
       "</div>"
      ],
      "text/plain": [
       "                                         original_title  len_original_title  \\\n",
       "0                                        Jurassic World                  14   \n",
       "1                                    Mad Max: Fury Road                  18   \n",
       "2                                             Insurgent                   9   \n",
       "3                          Star Wars: The Force Awakens                  28   \n",
       "4                                             Furious 7                   9   \n",
       "...                                                 ...                 ...   \n",
       "10858  The Russians Are Coming, The Russians Are Coming                  48   \n",
       "10860                               Carry On Screaming!                  19   \n",
       "10862                                        Grand Prix                  10   \n",
       "10864                            What's Up, Tiger Lily?                  22   \n",
       "10865                          Manos: The Hands of Fate                  24   \n",
       "\n",
       "                                                 tagline  len_tagline  \n",
       "0                                      The park is open.           17  \n",
       "1                                     What a Lovely Day.           18  \n",
       "2                             One Choice Can Destroy You           26  \n",
       "3                          Every generation has a story.           29  \n",
       "4                                    Vengeance Hits Home           19  \n",
       "...                                                  ...          ...  \n",
       "10858   IT'S A PLOT! ...to make the world die laughing!!           48  \n",
       "10860  Carry On Screaming with the Hilarious CARRY ON...           53  \n",
       "10862  Cinerama sweeps YOU into a drama of speed and ...           56  \n",
       "10864                          WOODY ALLEN STRIKES BACK!           25  \n",
       "10865       It's Shocking! It's Beyond Your Imagination!           44  \n",
       "\n",
       "[7030 rows x 4 columns]"
      ]
     },
     "execution_count": 157,
     "metadata": {},
     "output_type": "execute_result"
    }
   ],
   "source": [
    "df_tag_title_corr"
   ]
  },
  {
   "cell_type": "markdown",
   "metadata": {},
   "source": [
    "#### Output of corr() function and scatter plot depict low correlation between length of tagline and length of movie title."
   ]
  },
  {
   "cell_type": "code",
   "execution_count": 158,
   "metadata": {},
   "outputs": [
    {
     "data": {
      "text/html": [
       "<div>\n",
       "<style scoped>\n",
       "    .dataframe tbody tr th:only-of-type {\n",
       "        vertical-align: middle;\n",
       "    }\n",
       "\n",
       "    .dataframe tbody tr th {\n",
       "        vertical-align: top;\n",
       "    }\n",
       "\n",
       "    .dataframe thead th {\n",
       "        text-align: right;\n",
       "    }\n",
       "</style>\n",
       "<table border=\"1\" class=\"dataframe\">\n",
       "  <thead>\n",
       "    <tr style=\"text-align: right;\">\n",
       "      <th></th>\n",
       "      <th>len_original_title</th>\n",
       "      <th>len_tagline</th>\n",
       "    </tr>\n",
       "  </thead>\n",
       "  <tbody>\n",
       "    <tr>\n",
       "      <th>len_original_title</th>\n",
       "      <td>1.000000</td>\n",
       "      <td>0.019658</td>\n",
       "    </tr>\n",
       "    <tr>\n",
       "      <th>len_tagline</th>\n",
       "      <td>0.019658</td>\n",
       "      <td>1.000000</td>\n",
       "    </tr>\n",
       "  </tbody>\n",
       "</table>\n",
       "</div>"
      ],
      "text/plain": [
       "                    len_original_title  len_tagline\n",
       "len_original_title            1.000000     0.019658\n",
       "len_tagline                   0.019658     1.000000"
      ]
     },
     "execution_count": 158,
     "metadata": {},
     "output_type": "execute_result"
    }
   ],
   "source": [
    "\n",
    "#df_mov.loc[:,['popularity','vote_count','vote_average','runtime','budget','revenue','tagline']].corr()\n",
    "df_tag_title_corr.corr()"
   ]
  },
  {
   "cell_type": "code",
   "execution_count": 159,
   "metadata": {},
   "outputs": [
    {
     "data": {
      "image/png": "[encoded data removed]",
      "text/plain": [
       "<Figure size 432x288 with 1 Axes>"
      ]
     },
     "metadata": {
      "needs_background": "light"
     },
     "output_type": "display_data"
    }
   ],
   "source": [
    "corr_plot=df_tag_title_corr.plot(x='len_original_title',y='len_tagline',kind='scatter')"
   ]
  },
  {
   "cell_type": "markdown",
   "metadata": {},
   "source": [
    "<a id='conclusions'></a>\n",
    "## Conclusions\n",
    "\n",
    "Firstly, I would like to notify the reader that investigation performed on this report did not include any statistical tests and regarding use of correlation function in last question simply attempts to make a comment on correlation and cannot make a prediction about causation. Several data cleaning steps were performed on the original data due to missing data and that resulted in many rows being dropeed. Several derived columns were generated as originally available columns were insufficient to conduct the proposed analysis.\n",
    "\n",
    "\n",
    "•\tDirector with maximum (revenue_adj / budget_adj is 'John G. Avildsen'\n",
    "\n",
    "•\tDirector with minimum (revenue_adj / budget_adj) is 'Andy Cadiff' \n",
    "\n",
    "•\tTo find most prolific director we used mode function on grouped datasets and it was 'Steven Spielberg' who came out on top.\n",
    "\n",
    "•\tWhen revenue was plotted on yearly basis it was discovered that despite some fluctuations overall revenue has been growing steadily with 1960 being the generator of least revenue and 2010 collecting the most revenue.\n",
    "\n",
    "•\tAs part of analysis regarding finding popular genre a data-structure (dataframe) depicting most popular genre in each year was generated; named ‘df_year_max_genre’. If needed further analysis can be conducted on this to find most occurred genre, genre most popular in last 10 years etc.\n",
    "\n",
    "•\tRegarding usage of word ‘The’, the overall trend was found to be declining when plotted on yearly basis.\n",
    "\n",
    "•\tWhen it came to find out connection; correlation between tag line length and movie title length it was found that they have very low correlation. 0.019658 to be exact. Scatter plot of length of tagline and titles illustrates the same.\n",
    "\n"
   ]
  },
  {
   "cell_type": "code",
   "execution_count": null,
   "metadata": {},
   "outputs": [],
   "source": []
  },
  {
   "cell_type": "code",
   "execution_count": null,
   "metadata": {},
   "outputs": [],
   "source": []
  }
 ],
 "metadata": {
  "kernelspec": {
   "display_name": "Python 3",
   "language": "python",
   "name": "python3"
  },
  "language_info": {
   "codemirror_mode": {
    "name": "ipython",
    "version": 3
   },
   "file_extension": ".py",
   "mimetype": "text/x-python",
   "name": "python",
   "nbconvert_exporter": "python",
   "pygments_lexer": "ipython3",
   "version": "3.7.7"
  }
 },
 "nbformat": 4,
 "nbformat_minor": 2
}
